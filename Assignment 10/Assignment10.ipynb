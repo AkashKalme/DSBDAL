{
 "cells": [
  {
   "cell_type": "markdown",
   "id": "90c75dec",
   "metadata": {},
   "source": [
    "# Data Analytics III\n",
    "\n",
    "1. Implement Simple Naïve Bayes classification algorithm using Python/R on iris.csv\n",
    "dataset.\n",
    "2. Compute Confusion matrix to find TP, FP, TN, FN, Accuracy, Error rate, Precision,\n",
    "Recall on the given dataset."
   ]
  },
  {
   "cell_type": "code",
   "execution_count": 2,
   "id": "8197f6bc",
   "metadata": {},
   "outputs": [],
   "source": [
    "%matplotlib inline\n",
    "import pandas as pd\n",
    "import numpy as np\n",
    "import matplotlib.pyplot as plt\n",
    "import seaborn as sns"
   ]
  },
  {
   "cell_type": "code",
   "execution_count": 3,
   "id": "117b0834",
   "metadata": {},
   "outputs": [],
   "source": [
    "# Import Dataset\n",
    "iris = pd.read_csv(\"IRIS.csv\")"
   ]
  },
  {
   "cell_type": "code",
   "execution_count": 4,
   "id": "fcf7a216",
   "metadata": {},
   "outputs": [
    {
     "data": {
      "text/html": [
       "<div>\n",
       "<style scoped>\n",
       "    .dataframe tbody tr th:only-of-type {\n",
       "        vertical-align: middle;\n",
       "    }\n",
       "\n",
       "    .dataframe tbody tr th {\n",
       "        vertical-align: top;\n",
       "    }\n",
       "\n",
       "    .dataframe thead th {\n",
       "        text-align: right;\n",
       "    }\n",
       "</style>\n",
       "<table border=\"1\" class=\"dataframe\">\n",
       "  <thead>\n",
       "    <tr style=\"text-align: right;\">\n",
       "      <th></th>\n",
       "      <th>sepal_length</th>\n",
       "      <th>sepal_width</th>\n",
       "      <th>petal_length</th>\n",
       "      <th>petal_width</th>\n",
       "      <th>species</th>\n",
       "    </tr>\n",
       "  </thead>\n",
       "  <tbody>\n",
       "    <tr>\n",
       "      <th>0</th>\n",
       "      <td>5.1</td>\n",
       "      <td>3.5</td>\n",
       "      <td>1.4</td>\n",
       "      <td>0.2</td>\n",
       "      <td>Iris-setosa</td>\n",
       "    </tr>\n",
       "    <tr>\n",
       "      <th>1</th>\n",
       "      <td>4.9</td>\n",
       "      <td>3.0</td>\n",
       "      <td>1.4</td>\n",
       "      <td>0.2</td>\n",
       "      <td>Iris-setosa</td>\n",
       "    </tr>\n",
       "    <tr>\n",
       "      <th>2</th>\n",
       "      <td>4.7</td>\n",
       "      <td>3.2</td>\n",
       "      <td>1.3</td>\n",
       "      <td>0.2</td>\n",
       "      <td>Iris-setosa</td>\n",
       "    </tr>\n",
       "    <tr>\n",
       "      <th>3</th>\n",
       "      <td>4.6</td>\n",
       "      <td>3.1</td>\n",
       "      <td>1.5</td>\n",
       "      <td>0.2</td>\n",
       "      <td>Iris-setosa</td>\n",
       "    </tr>\n",
       "    <tr>\n",
       "      <th>4</th>\n",
       "      <td>5.0</td>\n",
       "      <td>3.6</td>\n",
       "      <td>1.4</td>\n",
       "      <td>0.2</td>\n",
       "      <td>Iris-setosa</td>\n",
       "    </tr>\n",
       "    <tr>\n",
       "      <th>...</th>\n",
       "      <td>...</td>\n",
       "      <td>...</td>\n",
       "      <td>...</td>\n",
       "      <td>...</td>\n",
       "      <td>...</td>\n",
       "    </tr>\n",
       "    <tr>\n",
       "      <th>145</th>\n",
       "      <td>6.7</td>\n",
       "      <td>3.0</td>\n",
       "      <td>5.2</td>\n",
       "      <td>2.3</td>\n",
       "      <td>Iris-virginica</td>\n",
       "    </tr>\n",
       "    <tr>\n",
       "      <th>146</th>\n",
       "      <td>6.3</td>\n",
       "      <td>2.5</td>\n",
       "      <td>5.0</td>\n",
       "      <td>1.9</td>\n",
       "      <td>Iris-virginica</td>\n",
       "    </tr>\n",
       "    <tr>\n",
       "      <th>147</th>\n",
       "      <td>6.5</td>\n",
       "      <td>3.0</td>\n",
       "      <td>5.2</td>\n",
       "      <td>2.0</td>\n",
       "      <td>Iris-virginica</td>\n",
       "    </tr>\n",
       "    <tr>\n",
       "      <th>148</th>\n",
       "      <td>6.2</td>\n",
       "      <td>3.4</td>\n",
       "      <td>5.4</td>\n",
       "      <td>2.3</td>\n",
       "      <td>Iris-virginica</td>\n",
       "    </tr>\n",
       "    <tr>\n",
       "      <th>149</th>\n",
       "      <td>5.9</td>\n",
       "      <td>3.0</td>\n",
       "      <td>5.1</td>\n",
       "      <td>1.8</td>\n",
       "      <td>Iris-virginica</td>\n",
       "    </tr>\n",
       "  </tbody>\n",
       "</table>\n",
       "<p>150 rows × 5 columns</p>\n",
       "</div>"
      ],
      "text/plain": [
       "     sepal_length  sepal_width  petal_length  petal_width         species\n",
       "0             5.1          3.5           1.4          0.2     Iris-setosa\n",
       "1             4.9          3.0           1.4          0.2     Iris-setosa\n",
       "2             4.7          3.2           1.3          0.2     Iris-setosa\n",
       "3             4.6          3.1           1.5          0.2     Iris-setosa\n",
       "4             5.0          3.6           1.4          0.2     Iris-setosa\n",
       "..            ...          ...           ...          ...             ...\n",
       "145           6.7          3.0           5.2          2.3  Iris-virginica\n",
       "146           6.3          2.5           5.0          1.9  Iris-virginica\n",
       "147           6.5          3.0           5.2          2.0  Iris-virginica\n",
       "148           6.2          3.4           5.4          2.3  Iris-virginica\n",
       "149           5.9          3.0           5.1          1.8  Iris-virginica\n",
       "\n",
       "[150 rows x 5 columns]"
      ]
     },
     "execution_count": 4,
     "metadata": {},
     "output_type": "execute_result"
    }
   ],
   "source": [
    "# Display DataFrame\n",
    "iris"
   ]
  },
  {
   "cell_type": "code",
   "execution_count": 7,
   "id": "23190cb2",
   "metadata": {},
   "outputs": [
    {
     "data": {
      "text/plain": [
       "array(['Iris-setosa', 'Iris-versicolor', 'Iris-virginica'], dtype=object)"
      ]
     },
     "execution_count": 7,
     "metadata": {},
     "output_type": "execute_result"
    }
   ],
   "source": [
    "# Check Unique Features\n",
    "iris[\"species\"].unique()"
   ]
  },
  {
   "cell_type": "code",
   "execution_count": 11,
   "id": "3bfc0ba9",
   "metadata": {},
   "outputs": [
    {
     "data": {
      "text/plain": [
       "Iris-setosa        50\n",
       "Iris-versicolor    50\n",
       "Iris-virginica     50\n",
       "Name: species, dtype: int64"
      ]
     },
     "execution_count": 11,
     "metadata": {},
     "output_type": "execute_result"
    }
   ],
   "source": [
    "# Check value count for each Category\n",
    "iris[\"species\"].value_counts()"
   ]
  },
  {
   "cell_type": "code",
   "execution_count": 12,
   "id": "218f2042",
   "metadata": {},
   "outputs": [
    {
     "data": {
      "text/plain": [
       "sepal_length    0\n",
       "sepal_width     0\n",
       "petal_length    0\n",
       "petal_width     0\n",
       "species         0\n",
       "dtype: int64"
      ]
     },
     "execution_count": 12,
     "metadata": {},
     "output_type": "execute_result"
    }
   ],
   "source": [
    "# Check for missing values\n",
    "iris.isna().sum()"
   ]
  },
  {
   "cell_type": "code",
   "execution_count": 13,
   "id": "2557be34",
   "metadata": {},
   "outputs": [],
   "source": [
    "# Create Data\n",
    "X = iris.drop(\"species\", axis=1)\n",
    "y = iris[\"species\"]"
   ]
  },
  {
   "cell_type": "code",
   "execution_count": 15,
   "id": "f3da0737",
   "metadata": {},
   "outputs": [
    {
     "data": {
      "text/html": [
       "<div>\n",
       "<style scoped>\n",
       "    .dataframe tbody tr th:only-of-type {\n",
       "        vertical-align: middle;\n",
       "    }\n",
       "\n",
       "    .dataframe tbody tr th {\n",
       "        vertical-align: top;\n",
       "    }\n",
       "\n",
       "    .dataframe thead th {\n",
       "        text-align: right;\n",
       "    }\n",
       "</style>\n",
       "<table border=\"1\" class=\"dataframe\">\n",
       "  <thead>\n",
       "    <tr style=\"text-align: right;\">\n",
       "      <th></th>\n",
       "      <th>sepal_length</th>\n",
       "      <th>sepal_width</th>\n",
       "      <th>petal_length</th>\n",
       "      <th>petal_width</th>\n",
       "    </tr>\n",
       "  </thead>\n",
       "  <tbody>\n",
       "    <tr>\n",
       "      <th>0</th>\n",
       "      <td>5.1</td>\n",
       "      <td>3.5</td>\n",
       "      <td>1.4</td>\n",
       "      <td>0.2</td>\n",
       "    </tr>\n",
       "    <tr>\n",
       "      <th>1</th>\n",
       "      <td>4.9</td>\n",
       "      <td>3.0</td>\n",
       "      <td>1.4</td>\n",
       "      <td>0.2</td>\n",
       "    </tr>\n",
       "    <tr>\n",
       "      <th>2</th>\n",
       "      <td>4.7</td>\n",
       "      <td>3.2</td>\n",
       "      <td>1.3</td>\n",
       "      <td>0.2</td>\n",
       "    </tr>\n",
       "    <tr>\n",
       "      <th>3</th>\n",
       "      <td>4.6</td>\n",
       "      <td>3.1</td>\n",
       "      <td>1.5</td>\n",
       "      <td>0.2</td>\n",
       "    </tr>\n",
       "    <tr>\n",
       "      <th>4</th>\n",
       "      <td>5.0</td>\n",
       "      <td>3.6</td>\n",
       "      <td>1.4</td>\n",
       "      <td>0.2</td>\n",
       "    </tr>\n",
       "  </tbody>\n",
       "</table>\n",
       "</div>"
      ],
      "text/plain": [
       "   sepal_length  sepal_width  petal_length  petal_width\n",
       "0           5.1          3.5           1.4          0.2\n",
       "1           4.9          3.0           1.4          0.2\n",
       "2           4.7          3.2           1.3          0.2\n",
       "3           4.6          3.1           1.5          0.2\n",
       "4           5.0          3.6           1.4          0.2"
      ]
     },
     "execution_count": 15,
     "metadata": {},
     "output_type": "execute_result"
    }
   ],
   "source": [
    "X.head()"
   ]
  },
  {
   "cell_type": "code",
   "execution_count": 16,
   "id": "c67b0402",
   "metadata": {},
   "outputs": [
    {
     "data": {
      "text/plain": [
       "0    Iris-setosa\n",
       "1    Iris-setosa\n",
       "2    Iris-setosa\n",
       "3    Iris-setosa\n",
       "4    Iris-setosa\n",
       "Name: species, dtype: object"
      ]
     },
     "execution_count": 16,
     "metadata": {},
     "output_type": "execute_result"
    }
   ],
   "source": [
    "y.head()"
   ]
  },
  {
   "cell_type": "code",
   "execution_count": 27,
   "id": "8fddccf6",
   "metadata": {},
   "outputs": [],
   "source": [
    "# Encode the y data\n",
    "from sklearn.preprocessing import LabelEncoder\n",
    "le = LabelEncoder()\n",
    "y = le.fit_transform(y)"
   ]
  },
  {
   "cell_type": "code",
   "execution_count": 29,
   "id": "4e6aa87f",
   "metadata": {},
   "outputs": [
    {
     "data": {
      "text/html": [
       "<div>\n",
       "<style scoped>\n",
       "    .dataframe tbody tr th:only-of-type {\n",
       "        vertical-align: middle;\n",
       "    }\n",
       "\n",
       "    .dataframe tbody tr th {\n",
       "        vertical-align: top;\n",
       "    }\n",
       "\n",
       "    .dataframe thead th {\n",
       "        text-align: right;\n",
       "    }\n",
       "</style>\n",
       "<table border=\"1\" class=\"dataframe\">\n",
       "  <thead>\n",
       "    <tr style=\"text-align: right;\">\n",
       "      <th></th>\n",
       "      <th>species</th>\n",
       "    </tr>\n",
       "  </thead>\n",
       "  <tbody>\n",
       "    <tr>\n",
       "      <th>0</th>\n",
       "      <td>0</td>\n",
       "    </tr>\n",
       "    <tr>\n",
       "      <th>1</th>\n",
       "      <td>0</td>\n",
       "    </tr>\n",
       "    <tr>\n",
       "      <th>2</th>\n",
       "      <td>0</td>\n",
       "    </tr>\n",
       "    <tr>\n",
       "      <th>3</th>\n",
       "      <td>0</td>\n",
       "    </tr>\n",
       "    <tr>\n",
       "      <th>4</th>\n",
       "      <td>0</td>\n",
       "    </tr>\n",
       "  </tbody>\n",
       "</table>\n",
       "</div>"
      ],
      "text/plain": [
       "   species\n",
       "0        0\n",
       "1        0\n",
       "2        0\n",
       "3        0\n",
       "4        0"
      ]
     },
     "execution_count": 29,
     "metadata": {},
     "output_type": "execute_result"
    }
   ],
   "source": [
    "# Transform into dataframe\n",
    "y = pd.DataFrame(y, columns=[\"species\"])\n",
    "y.head()"
   ]
  },
  {
   "cell_type": "code",
   "execution_count": 113,
   "id": "38bb5e73",
   "metadata": {},
   "outputs": [],
   "source": [
    "# Split the data\n",
    "from sklearn.model_selection import train_test_split\n",
    "X_train, X_test, y_train, y_test = train_test_split(X, y, test_size=0.2)"
   ]
  },
  {
   "cell_type": "code",
   "execution_count": 114,
   "id": "6cc4e380",
   "metadata": {},
   "outputs": [
    {
     "data": {
      "text/html": [
       "<div>\n",
       "<style scoped>\n",
       "    .dataframe tbody tr th:only-of-type {\n",
       "        vertical-align: middle;\n",
       "    }\n",
       "\n",
       "    .dataframe tbody tr th {\n",
       "        vertical-align: top;\n",
       "    }\n",
       "\n",
       "    .dataframe thead th {\n",
       "        text-align: right;\n",
       "    }\n",
       "</style>\n",
       "<table border=\"1\" class=\"dataframe\">\n",
       "  <thead>\n",
       "    <tr style=\"text-align: right;\">\n",
       "      <th></th>\n",
       "      <th>sepal_length</th>\n",
       "      <th>sepal_width</th>\n",
       "      <th>petal_length</th>\n",
       "      <th>petal_width</th>\n",
       "    </tr>\n",
       "  </thead>\n",
       "  <tbody>\n",
       "    <tr>\n",
       "      <th>148</th>\n",
       "      <td>6.2</td>\n",
       "      <td>3.4</td>\n",
       "      <td>5.4</td>\n",
       "      <td>2.3</td>\n",
       "    </tr>\n",
       "    <tr>\n",
       "      <th>105</th>\n",
       "      <td>7.6</td>\n",
       "      <td>3.0</td>\n",
       "      <td>6.6</td>\n",
       "      <td>2.1</td>\n",
       "    </tr>\n",
       "    <tr>\n",
       "      <th>62</th>\n",
       "      <td>6.0</td>\n",
       "      <td>2.2</td>\n",
       "      <td>4.0</td>\n",
       "      <td>1.0</td>\n",
       "    </tr>\n",
       "    <tr>\n",
       "      <th>89</th>\n",
       "      <td>5.5</td>\n",
       "      <td>2.5</td>\n",
       "      <td>4.0</td>\n",
       "      <td>1.3</td>\n",
       "    </tr>\n",
       "    <tr>\n",
       "      <th>20</th>\n",
       "      <td>5.4</td>\n",
       "      <td>3.4</td>\n",
       "      <td>1.7</td>\n",
       "      <td>0.2</td>\n",
       "    </tr>\n",
       "  </tbody>\n",
       "</table>\n",
       "</div>"
      ],
      "text/plain": [
       "     sepal_length  sepal_width  petal_length  petal_width\n",
       "148           6.2          3.4           5.4          2.3\n",
       "105           7.6          3.0           6.6          2.1\n",
       "62            6.0          2.2           4.0          1.0\n",
       "89            5.5          2.5           4.0          1.3\n",
       "20            5.4          3.4           1.7          0.2"
      ]
     },
     "execution_count": 114,
     "metadata": {},
     "output_type": "execute_result"
    }
   ],
   "source": [
    "X_train.head()"
   ]
  },
  {
   "cell_type": "code",
   "execution_count": 115,
   "id": "72d5a6c2",
   "metadata": {},
   "outputs": [
    {
     "data": {
      "text/html": [
       "<div>\n",
       "<style scoped>\n",
       "    .dataframe tbody tr th:only-of-type {\n",
       "        vertical-align: middle;\n",
       "    }\n",
       "\n",
       "    .dataframe tbody tr th {\n",
       "        vertical-align: top;\n",
       "    }\n",
       "\n",
       "    .dataframe thead th {\n",
       "        text-align: right;\n",
       "    }\n",
       "</style>\n",
       "<table border=\"1\" class=\"dataframe\">\n",
       "  <thead>\n",
       "    <tr style=\"text-align: right;\">\n",
       "      <th></th>\n",
       "      <th>sepal_length</th>\n",
       "      <th>sepal_width</th>\n",
       "      <th>petal_length</th>\n",
       "      <th>petal_width</th>\n",
       "    </tr>\n",
       "  </thead>\n",
       "  <tbody>\n",
       "    <tr>\n",
       "      <th>46</th>\n",
       "      <td>5.1</td>\n",
       "      <td>3.8</td>\n",
       "      <td>1.6</td>\n",
       "      <td>0.2</td>\n",
       "    </tr>\n",
       "    <tr>\n",
       "      <th>110</th>\n",
       "      <td>6.5</td>\n",
       "      <td>3.2</td>\n",
       "      <td>5.1</td>\n",
       "      <td>2.0</td>\n",
       "    </tr>\n",
       "    <tr>\n",
       "      <th>38</th>\n",
       "      <td>4.4</td>\n",
       "      <td>3.0</td>\n",
       "      <td>1.3</td>\n",
       "      <td>0.2</td>\n",
       "    </tr>\n",
       "    <tr>\n",
       "      <th>117</th>\n",
       "      <td>7.7</td>\n",
       "      <td>3.8</td>\n",
       "      <td>6.7</td>\n",
       "      <td>2.2</td>\n",
       "    </tr>\n",
       "    <tr>\n",
       "      <th>29</th>\n",
       "      <td>4.7</td>\n",
       "      <td>3.2</td>\n",
       "      <td>1.6</td>\n",
       "      <td>0.2</td>\n",
       "    </tr>\n",
       "  </tbody>\n",
       "</table>\n",
       "</div>"
      ],
      "text/plain": [
       "     sepal_length  sepal_width  petal_length  petal_width\n",
       "46            5.1          3.8           1.6          0.2\n",
       "110           6.5          3.2           5.1          2.0\n",
       "38            4.4          3.0           1.3          0.2\n",
       "117           7.7          3.8           6.7          2.2\n",
       "29            4.7          3.2           1.6          0.2"
      ]
     },
     "execution_count": 115,
     "metadata": {},
     "output_type": "execute_result"
    }
   ],
   "source": [
    "X_test.head()"
   ]
  },
  {
   "cell_type": "code",
   "execution_count": 116,
   "id": "441bdace",
   "metadata": {},
   "outputs": [
    {
     "data": {
      "text/html": [
       "<div>\n",
       "<style scoped>\n",
       "    .dataframe tbody tr th:only-of-type {\n",
       "        vertical-align: middle;\n",
       "    }\n",
       "\n",
       "    .dataframe tbody tr th {\n",
       "        vertical-align: top;\n",
       "    }\n",
       "\n",
       "    .dataframe thead th {\n",
       "        text-align: right;\n",
       "    }\n",
       "</style>\n",
       "<table border=\"1\" class=\"dataframe\">\n",
       "  <thead>\n",
       "    <tr style=\"text-align: right;\">\n",
       "      <th></th>\n",
       "      <th>species</th>\n",
       "    </tr>\n",
       "  </thead>\n",
       "  <tbody>\n",
       "    <tr>\n",
       "      <th>148</th>\n",
       "      <td>2</td>\n",
       "    </tr>\n",
       "    <tr>\n",
       "      <th>105</th>\n",
       "      <td>2</td>\n",
       "    </tr>\n",
       "    <tr>\n",
       "      <th>62</th>\n",
       "      <td>1</td>\n",
       "    </tr>\n",
       "    <tr>\n",
       "      <th>89</th>\n",
       "      <td>1</td>\n",
       "    </tr>\n",
       "    <tr>\n",
       "      <th>20</th>\n",
       "      <td>0</td>\n",
       "    </tr>\n",
       "  </tbody>\n",
       "</table>\n",
       "</div>"
      ],
      "text/plain": [
       "     species\n",
       "148        2\n",
       "105        2\n",
       "62         1\n",
       "89         1\n",
       "20         0"
      ]
     },
     "execution_count": 116,
     "metadata": {},
     "output_type": "execute_result"
    }
   ],
   "source": [
    "y_train.head()"
   ]
  },
  {
   "cell_type": "code",
   "execution_count": 117,
   "id": "7715cd36",
   "metadata": {},
   "outputs": [
    {
     "data": {
      "text/html": [
       "<div>\n",
       "<style scoped>\n",
       "    .dataframe tbody tr th:only-of-type {\n",
       "        vertical-align: middle;\n",
       "    }\n",
       "\n",
       "    .dataframe tbody tr th {\n",
       "        vertical-align: top;\n",
       "    }\n",
       "\n",
       "    .dataframe thead th {\n",
       "        text-align: right;\n",
       "    }\n",
       "</style>\n",
       "<table border=\"1\" class=\"dataframe\">\n",
       "  <thead>\n",
       "    <tr style=\"text-align: right;\">\n",
       "      <th></th>\n",
       "      <th>species</th>\n",
       "    </tr>\n",
       "  </thead>\n",
       "  <tbody>\n",
       "    <tr>\n",
       "      <th>46</th>\n",
       "      <td>0</td>\n",
       "    </tr>\n",
       "    <tr>\n",
       "      <th>110</th>\n",
       "      <td>2</td>\n",
       "    </tr>\n",
       "    <tr>\n",
       "      <th>38</th>\n",
       "      <td>0</td>\n",
       "    </tr>\n",
       "    <tr>\n",
       "      <th>117</th>\n",
       "      <td>2</td>\n",
       "    </tr>\n",
       "    <tr>\n",
       "      <th>29</th>\n",
       "      <td>0</td>\n",
       "    </tr>\n",
       "  </tbody>\n",
       "</table>\n",
       "</div>"
      ],
      "text/plain": [
       "     species\n",
       "46         0\n",
       "110        2\n",
       "38         0\n",
       "117        2\n",
       "29         0"
      ]
     },
     "execution_count": 117,
     "metadata": {},
     "output_type": "execute_result"
    }
   ],
   "source": [
    "y_test.head()"
   ]
  },
  {
   "cell_type": "code",
   "execution_count": 118,
   "id": "b99560dd",
   "metadata": {},
   "outputs": [],
   "source": [
    "# Scaling X_train and X_test DataFrame\n",
    "from sklearn.preprocessing import StandardScaler\n",
    "scaler = StandardScaler()\n",
    "X_train_scaled = scaler.fit_transform(X_train)\n",
    "X_test_scaled = scaler.transform(X_test)"
   ]
  },
  {
   "cell_type": "code",
   "execution_count": 119,
   "id": "0659b009",
   "metadata": {},
   "outputs": [
    {
     "data": {
      "text/plain": [
       "array([[ 0.37309043,  0.78193641,  0.90233099,  1.44954572],\n",
       "       [ 2.13870145, -0.13798878,  1.59680272,  1.17881344],\n",
       "       [ 0.12086028, -1.97783914,  0.09211396, -0.31021406],\n",
       "       [-0.50971509, -1.28789526,  0.09211396,  0.09588435],\n",
       "       [-0.63583016,  0.78193641, -1.23895687, -1.39314316],\n",
       "       [-1.14029046,  0.55195511, -1.4125748 , -1.39314316],\n",
       "       [ 2.51704667,  1.70186159,  1.48105743,  1.04344731],\n",
       "       [-0.38360001, -0.82793266,  0.20785925,  0.09588435],\n",
       "       [-1.3925206 , -0.13798878, -1.4125748 , -1.5285093 ],\n",
       "       [ 0.4992055 , -1.74785785,  0.32360454,  0.09588435],\n",
       "       [ 1.00366579,  0.09199252,  0.32360454,  0.23125048],\n",
       "       [ 2.26481653, -0.13798878,  1.3074395 ,  1.44954572],\n",
       "       [-0.63583016,  0.78193641, -1.35470216, -1.12241089],\n",
       "       [-1.14029046, -0.13798878, -1.29682951, -1.39314316],\n",
       "       [ 0.24697535, -1.05791396,  1.01807628,  0.23125048],\n",
       "       [ 1.12978087,  0.32197381,  1.19169421,  1.44954572],\n",
       "       [-0.63583016,  1.47188029, -1.35470216, -1.39314316],\n",
       "       [-1.14029046,  0.78193641, -1.35470216, -1.39314316],\n",
       "       [ 0.24697535, -0.59795137,  0.09211396,  0.09588435],\n",
       "       [-1.3925206 ,  0.09199252, -1.29682951, -1.39314316],\n",
       "       [ 0.87755072, -0.13798878,  0.32360454,  0.23125048],\n",
       "       [-0.88806031,  1.0119177 , -1.35470216, -1.39314316],\n",
       "       [ 0.75143565, -0.13798878,  1.13382157,  1.31417958],\n",
       "       [ 0.4992055 , -0.36797007,  1.01807628,  0.77271503],\n",
       "       [ 1.00366579,  0.55195511,  1.07594892,  1.17881344],\n",
       "       [ 0.24697535, -0.13798878,  0.61296776,  0.77271503],\n",
       "       [ 0.87755072, -0.36797007,  0.43934983,  0.09588435],\n",
       "       [-0.50971509, -1.51787655, -0.02363133, -0.17484793],\n",
       "       [ 1.00366579, -1.28789526,  1.13382157,  0.77271503],\n",
       "       [-0.50971509,  1.0119177 , -1.47044745, -1.39314316],\n",
       "       [-0.25748494,  1.70186159, -1.23895687, -1.25777702],\n",
       "       [-0.13136987, -0.82793266,  0.72871305,  0.90808117],\n",
       "       [-0.25748494,  3.08174936, -1.35470216, -1.12241089],\n",
       "       [ 2.26481653, -1.05791396,  1.77042066,  1.44954572],\n",
       "       [-1.01417538,  1.70186159, -1.35470216, -1.25777702],\n",
       "       [-0.50971509, -1.74785785,  0.09211396,  0.09588435],\n",
       "       [-0.00525479,  0.32197381,  0.55509512,  0.77271503],\n",
       "       [-1.14029046,  0.32197381, -1.52832009, -1.39314316],\n",
       "       [ 1.38201101,  0.32197381,  0.49722247,  0.23125048],\n",
       "       [-0.63583016, -0.13798878,  0.38147718,  0.36661662],\n",
       "       [ 0.75143565, -0.13798878,  0.7865857 ,  1.04344731],\n",
       "       [-1.26640553,  0.09199252, -1.35470216, -1.5285093 ],\n",
       "       [ 1.25589594,  0.32197381,  1.07594892,  1.44954572],\n",
       "       [ 0.75143565, -0.59795137,  0.43934983,  0.36661662],\n",
       "       [-1.01417538,  1.70186159, -1.12321158, -1.12241089],\n",
       "       [ 1.63424116, -0.13798878,  1.13382157,  0.50198276],\n",
       "       [ 0.37309043, -0.36797007,  0.26573189,  0.09588435],\n",
       "       [ 0.62532057,  0.32197381,  0.38147718,  0.36661662],\n",
       "       [ 0.62532057, -0.59795137,  1.01807628,  1.17881344],\n",
       "       [ 1.25589594,  0.09199252,  0.61296776,  0.36661662],\n",
       "       [-1.14029046,  0.78193641, -1.29682951, -1.12241089],\n",
       "       [-1.01417538,  1.47188029, -1.35470216, -1.12241089],\n",
       "       [-0.50971509, -1.05791396,  0.32360454, -0.03948179],\n",
       "       [ 1.63424116,  0.32197381,  1.24956686,  0.77271503],\n",
       "       [-0.38360001, -0.59795137,  0.61296776,  1.04344731],\n",
       "       [-0.76194524,  1.47188029, -1.35470216, -1.39314316],\n",
       "       [ 0.24697535, -0.13798878,  0.43934983,  0.23125048],\n",
       "       [-0.25748494, -0.59795137,  0.38147718,  0.09588435],\n",
       "       [ 0.37309043, -0.59795137,  0.55509512,  0.77271503],\n",
       "       [ 1.00366579, -0.13798878,  0.67084041,  0.6373489 ],\n",
       "       [-1.51863568,  0.32197381, -1.47044745, -1.39314316],\n",
       "       [-1.01417538,  1.0119177 , -1.4125748 , -1.25777702],\n",
       "       [ 0.24697535, -0.36797007,  0.49722247,  0.23125048],\n",
       "       [ 1.25589594,  0.09199252,  0.72871305,  1.44954572],\n",
       "       [ 0.12086028, -0.82793266,  0.72871305,  0.50198276],\n",
       "       [ 1.25589594,  0.09199252,  0.90233099,  1.17881344],\n",
       "       [-0.25748494, -0.36797007,  0.20785925,  0.09588435],\n",
       "       [ 1.00366579, -0.13798878,  0.7865857 ,  1.44954572],\n",
       "       [ 0.4992055 ,  0.78193641,  1.01807628,  1.58491185],\n",
       "       [-0.13136987, -0.82793266,  0.1499866 , -0.31021406],\n",
       "       [ 1.12978087, -0.13798878,  0.96020363,  1.17881344],\n",
       "       [ 0.4992055 ,  0.55195511,  1.24956686,  1.72027799],\n",
       "       [-0.00525479, -0.13798878,  0.72871305,  0.77271503],\n",
       "       [ 2.26481653, -0.59795137,  1.65467537,  1.04344731],\n",
       "       [ 1.00366579,  0.09199252,  0.49722247,  0.36661662],\n",
       "       [-0.63583016,  1.93184288, -1.47044745, -1.12241089],\n",
       "       [-1.3925206 ,  0.78193641, -1.12321158, -1.39314316],\n",
       "       [-0.25748494, -0.59795137,  0.1499866 ,  0.09588435],\n",
       "       [-0.38360001, -0.36797007, -0.13937662,  0.09588435],\n",
       "       [-0.88806031, -0.82793266,  0.03424131,  0.23125048],\n",
       "       [ 1.76035623, -0.36797007,  1.42318479,  0.77271503],\n",
       "       [ 0.62532057, -0.36797007,  0.26573189,  0.09588435],\n",
       "       [-1.14029046,  1.0119177 , -1.47044745, -1.25777702],\n",
       "       [ 0.75143565, -0.13798878,  0.96020363,  0.77271503],\n",
       "       [-0.13136987, -0.82793266,  0.03424131, -0.03948179],\n",
       "       [-1.14029046,  1.0119177 , -1.29682951, -0.85167861],\n",
       "       [ 0.4992055 , -0.82793266,  0.61296776,  0.77271503],\n",
       "       [-0.63583016,  1.93184288, -1.23895687, -1.12241089],\n",
       "       [-0.13136987,  2.16182418, -1.52832009, -1.39314316],\n",
       "       [-1.77086582, -1.74785785, -1.47044745, -1.25777702],\n",
       "       [-0.50971509,  2.62178677, -1.4125748 , -1.39314316],\n",
       "       [ 1.50812609, -0.13798878,  1.19169421,  1.17881344],\n",
       "       [ 0.12086028,  0.78193641,  0.38147718,  0.50198276],\n",
       "       [-0.13136987, -0.59795137,  0.72871305,  1.58491185],\n",
       "       [-0.25748494, -1.05791396, -0.19724926, -0.31021406],\n",
       "       [-1.64475075,  0.32197381, -1.4125748 , -1.39314316],\n",
       "       [-0.50971509, -1.51787655, -0.08150397, -0.31021406],\n",
       "       [-1.26640553, -1.51787655, -0.31299455, -0.31021406],\n",
       "       [-0.88806031,  2.39180547, -1.35470216, -1.5285093 ],\n",
       "       [-1.14029046, -2.43780173, -0.19724926, -0.31021406],\n",
       "       [ 0.4992055 , -1.28789526,  0.67084041,  0.90808117],\n",
       "       [-1.01417538, -1.28789526, -0.48661249, -0.17484793],\n",
       "       [-1.01417538,  0.78193641, -1.35470216, -1.39314316],\n",
       "       [-0.25748494, -0.13798878,  0.20785925, -0.03948179],\n",
       "       [ 0.62532057,  0.32197381,  0.84445834,  1.44954572],\n",
       "       [ 0.62532057, -0.82793266,  0.84445834,  0.90808117],\n",
       "       [-1.3925206 , -0.13798878, -1.4125748 , -1.25777702],\n",
       "       [ 0.4992055 ,  0.55195511,  0.49722247,  0.50198276],\n",
       "       [ 0.4992055 , -0.59795137,  0.72871305,  0.36661662],\n",
       "       [ 1.12978087, -0.59795137,  0.55509512,  0.23125048],\n",
       "       [-1.3925206 ,  0.78193641, -1.29682951, -1.39314316],\n",
       "       [-2.02309597, -0.13798878, -1.58619274, -1.5285093 ],\n",
       "       [-0.25748494, -1.28789526,  0.67084041,  1.04344731],\n",
       "       [ 0.24697535, -0.59795137,  0.49722247, -0.03948179],\n",
       "       [-1.64475075,  1.241899  , -1.64406538, -1.39314316],\n",
       "       [ 0.62532057, -0.59795137,  1.01807628,  1.31417958],\n",
       "       [ 0.12086028, -0.13798878,  0.55509512,  0.77271503],\n",
       "       [ 0.62532057,  0.09199252,  0.96020363,  0.77271503],\n",
       "       [-1.64475075,  0.78193641, -1.4125748 , -1.25777702],\n",
       "       [-0.38360001, -1.28789526,  0.03424131, -0.17484793]])"
      ]
     },
     "execution_count": 119,
     "metadata": {},
     "output_type": "execute_result"
    }
   ],
   "source": [
    "X_train_scaled"
   ]
  },
  {
   "cell_type": "code",
   "execution_count": 120,
   "id": "3edff03d",
   "metadata": {},
   "outputs": [
    {
     "data": {
      "text/plain": [
       "array([[-1.01417538,  1.70186159, -1.29682951, -1.39314316],\n",
       "       [ 0.75143565,  0.32197381,  0.72871305,  1.04344731],\n",
       "       [-1.8969809 , -0.13798878, -1.47044745, -1.39314316],\n",
       "       [ 2.26481653,  1.70186159,  1.65467537,  1.31417958],\n",
       "       [-1.51863568,  0.32197381, -1.29682951, -1.39314316],\n",
       "       [-0.13136987, -0.82793266,  0.72871305,  0.90808117],\n",
       "       [ 1.63424116,  1.241899  ,  1.3074395 ,  1.72027799],\n",
       "       [ 0.12086028, -1.97783914,  0.67084041,  0.36661662],\n",
       "       [-0.13136987, -1.05791396,  0.09211396, -0.03948179],\n",
       "       [-1.26640553,  0.09199252, -1.35470216, -1.5285093 ],\n",
       "       [-1.26640553, -0.13798878, -1.4125748 , -1.39314316],\n",
       "       [-1.8969809 , -0.36797007, -1.4125748 , -1.39314316],\n",
       "       [-1.64475075,  0.09199252, -1.35470216, -1.39314316],\n",
       "       [ 0.37309043, -1.97783914,  0.38147718,  0.36661662],\n",
       "       [-1.14029046, -1.74785785, -0.31299455, -0.31021406],\n",
       "       [-0.88806031,  0.78193641, -1.4125748 , -1.39314316],\n",
       "       [-1.26640553,  0.09199252, -1.35470216, -1.5285093 ],\n",
       "       [-1.01417538,  1.0119177 , -1.4125748 , -1.39314316],\n",
       "       [ 1.00366579,  0.55195511,  1.07594892,  1.72027799],\n",
       "       [ 1.00366579,  0.09199252,  1.01807628,  1.58491185],\n",
       "       [ 0.4992055 , -1.28789526,  0.61296776,  0.36661662],\n",
       "       [ 0.12086028, -0.36797007,  0.38147718,  0.36661662],\n",
       "       [-1.01417538,  0.55195511, -1.23895687, -0.98704475],\n",
       "       [-0.38360001, -0.13798878,  0.38147718,  0.36661662],\n",
       "       [-0.00525479, -0.13798878,  0.20785925,  0.36661662],\n",
       "       [-1.26640553, -1.28789526,  0.38147718,  0.6373489 ],\n",
       "       [ 1.88647131, -0.59795137,  1.3074395 ,  0.90808117],\n",
       "       [-1.8969809 ,  0.32197381, -1.47044745, -1.39314316],\n",
       "       [-1.14029046,  1.241899  , -1.4125748 , -1.39314316],\n",
       "       [-0.38360001, -0.13798878,  0.1499866 ,  0.09588435]])"
      ]
     },
     "execution_count": 120,
     "metadata": {},
     "output_type": "execute_result"
    }
   ],
   "source": [
    "X_test_scaled"
   ]
  },
  {
   "cell_type": "code",
   "execution_count": 121,
   "id": "1e56bf30",
   "metadata": {},
   "outputs": [
    {
     "data": {
      "text/html": [
       "<div>\n",
       "<style scoped>\n",
       "    .dataframe tbody tr th:only-of-type {\n",
       "        vertical-align: middle;\n",
       "    }\n",
       "\n",
       "    .dataframe tbody tr th {\n",
       "        vertical-align: top;\n",
       "    }\n",
       "\n",
       "    .dataframe thead th {\n",
       "        text-align: right;\n",
       "    }\n",
       "</style>\n",
       "<table border=\"1\" class=\"dataframe\">\n",
       "  <thead>\n",
       "    <tr style=\"text-align: right;\">\n",
       "      <th></th>\n",
       "      <th>sepal_length</th>\n",
       "      <th>sepal_width</th>\n",
       "      <th>petal_length</th>\n",
       "      <th>petal_width</th>\n",
       "    </tr>\n",
       "  </thead>\n",
       "  <tbody>\n",
       "    <tr>\n",
       "      <th>0</th>\n",
       "      <td>0.373090</td>\n",
       "      <td>0.781936</td>\n",
       "      <td>0.902331</td>\n",
       "      <td>1.449546</td>\n",
       "    </tr>\n",
       "    <tr>\n",
       "      <th>1</th>\n",
       "      <td>2.138701</td>\n",
       "      <td>-0.137989</td>\n",
       "      <td>1.596803</td>\n",
       "      <td>1.178813</td>\n",
       "    </tr>\n",
       "    <tr>\n",
       "      <th>2</th>\n",
       "      <td>0.120860</td>\n",
       "      <td>-1.977839</td>\n",
       "      <td>0.092114</td>\n",
       "      <td>-0.310214</td>\n",
       "    </tr>\n",
       "    <tr>\n",
       "      <th>3</th>\n",
       "      <td>-0.509715</td>\n",
       "      <td>-1.287895</td>\n",
       "      <td>0.092114</td>\n",
       "      <td>0.095884</td>\n",
       "    </tr>\n",
       "    <tr>\n",
       "      <th>4</th>\n",
       "      <td>-0.635830</td>\n",
       "      <td>0.781936</td>\n",
       "      <td>-1.238957</td>\n",
       "      <td>-1.393143</td>\n",
       "    </tr>\n",
       "  </tbody>\n",
       "</table>\n",
       "</div>"
      ],
      "text/plain": [
       "   sepal_length  sepal_width  petal_length  petal_width\n",
       "0      0.373090     0.781936      0.902331     1.449546\n",
       "1      2.138701    -0.137989      1.596803     1.178813\n",
       "2      0.120860    -1.977839      0.092114    -0.310214\n",
       "3     -0.509715    -1.287895      0.092114     0.095884\n",
       "4     -0.635830     0.781936     -1.238957    -1.393143"
      ]
     },
     "execution_count": 121,
     "metadata": {},
     "output_type": "execute_result"
    }
   ],
   "source": [
    "# Convert to DataFrame\n",
    "X_train_scaled = pd.DataFrame(X_train_scaled, columns=[\"sepal_length\", \"sepal_width\", \"petal_length\", \"petal_width\"])\n",
    "X_train_scaled.head()"
   ]
  },
  {
   "cell_type": "code",
   "execution_count": 122,
   "id": "71ed3b74",
   "metadata": {},
   "outputs": [
    {
     "data": {
      "text/html": [
       "<div>\n",
       "<style scoped>\n",
       "    .dataframe tbody tr th:only-of-type {\n",
       "        vertical-align: middle;\n",
       "    }\n",
       "\n",
       "    .dataframe tbody tr th {\n",
       "        vertical-align: top;\n",
       "    }\n",
       "\n",
       "    .dataframe thead th {\n",
       "        text-align: right;\n",
       "    }\n",
       "</style>\n",
       "<table border=\"1\" class=\"dataframe\">\n",
       "  <thead>\n",
       "    <tr style=\"text-align: right;\">\n",
       "      <th></th>\n",
       "      <th>sepal_length</th>\n",
       "      <th>sepal_width</th>\n",
       "      <th>petal_length</th>\n",
       "      <th>petal_width</th>\n",
       "    </tr>\n",
       "  </thead>\n",
       "  <tbody>\n",
       "    <tr>\n",
       "      <th>0</th>\n",
       "      <td>-1.014175</td>\n",
       "      <td>1.701862</td>\n",
       "      <td>-1.296830</td>\n",
       "      <td>-1.393143</td>\n",
       "    </tr>\n",
       "    <tr>\n",
       "      <th>1</th>\n",
       "      <td>0.751436</td>\n",
       "      <td>0.321974</td>\n",
       "      <td>0.728713</td>\n",
       "      <td>1.043447</td>\n",
       "    </tr>\n",
       "    <tr>\n",
       "      <th>2</th>\n",
       "      <td>-1.896981</td>\n",
       "      <td>-0.137989</td>\n",
       "      <td>-1.470447</td>\n",
       "      <td>-1.393143</td>\n",
       "    </tr>\n",
       "    <tr>\n",
       "      <th>3</th>\n",
       "      <td>2.264817</td>\n",
       "      <td>1.701862</td>\n",
       "      <td>1.654675</td>\n",
       "      <td>1.314180</td>\n",
       "    </tr>\n",
       "    <tr>\n",
       "      <th>4</th>\n",
       "      <td>-1.518636</td>\n",
       "      <td>0.321974</td>\n",
       "      <td>-1.296830</td>\n",
       "      <td>-1.393143</td>\n",
       "    </tr>\n",
       "  </tbody>\n",
       "</table>\n",
       "</div>"
      ],
      "text/plain": [
       "   sepal_length  sepal_width  petal_length  petal_width\n",
       "0     -1.014175     1.701862     -1.296830    -1.393143\n",
       "1      0.751436     0.321974      0.728713     1.043447\n",
       "2     -1.896981    -0.137989     -1.470447    -1.393143\n",
       "3      2.264817     1.701862      1.654675     1.314180\n",
       "4     -1.518636     0.321974     -1.296830    -1.393143"
      ]
     },
     "execution_count": 122,
     "metadata": {},
     "output_type": "execute_result"
    }
   ],
   "source": [
    "X_test_scaled = pd.DataFrame(X_test_scaled, columns=[\"sepal_length\", \"sepal_width\", \"petal_length\", \"petal_width\"])\n",
    "X_test_scaled.head()"
   ]
  },
  {
   "cell_type": "code",
   "execution_count": 123,
   "id": "b0488ff8",
   "metadata": {},
   "outputs": [
    {
     "data": {
      "text/plain": [
       "GaussianNB()"
      ]
     },
     "execution_count": 123,
     "metadata": {},
     "output_type": "execute_result"
    }
   ],
   "source": [
    "# Fit the Model\n",
    "from sklearn.naive_bayes import GaussianNB\n",
    "\n",
    "clf = GaussianNB()\n",
    "\n",
    "clf.fit(X_train_scaled, y_train.values.ravel())"
   ]
  },
  {
   "cell_type": "code",
   "execution_count": 124,
   "id": "0eb05d95",
   "metadata": {},
   "outputs": [],
   "source": [
    "y_pred = clf.predict(X_test_scaled)"
   ]
  },
  {
   "cell_type": "code",
   "execution_count": 125,
   "id": "1a8ea6b3",
   "metadata": {},
   "outputs": [
    {
     "data": {
      "text/plain": [
       "array([[13,  0,  0],\n",
       "       [ 0,  8,  0],\n",
       "       [ 0,  2,  7]])"
      ]
     },
     "execution_count": 125,
     "metadata": {},
     "output_type": "execute_result"
    }
   ],
   "source": [
    "from sklearn.metrics import confusion_matrix\n",
    "confusion_matrix(y_test, y_pred)"
   ]
  },
  {
   "cell_type": "code",
   "execution_count": 126,
   "id": "06e45390",
   "metadata": {},
   "outputs": [
    {
     "name": "stdout",
     "output_type": "stream",
     "text": [
      "Accuracy:  0.9333333333333333\n",
      "Error Rate:  0.06666666666666665\n",
      "Reacll:  [1.         1.         0.77777778]\n",
      "F1:  0.9333333333333333\n"
     ]
    }
   ],
   "source": [
    "from sklearn.metrics import accuracy_score, recall_score, precision_score, f1_score\n",
    "accuracy = accuracy_score(y_test, y_pred)\n",
    "recall = recall_score(y_test, y_pred, average=None, zero_division=1)\n",
    "# precision = precision_score(y_test, y_train, average='micro', zero_division=1)\n",
    "f1 = f1_score(y_test, y_pred, average='micro')\n",
    "print(\"Accuracy: \", accuracy)\n",
    "print(\"Error Rate: \", (1-accuracy))\n",
    "print(\"Reacll: \", recall)\n",
    "# print(\"Precision: \", precision)\n",
    "print(\"F1: \", f1)"
   ]
  }
 ],
 "metadata": {
  "kernelspec": {
   "display_name": "Python 3 (ipykernel)",
   "language": "python",
   "name": "python3"
  },
  "language_info": {
   "codemirror_mode": {
    "name": "ipython",
    "version": 3
   },
   "file_extension": ".py",
   "mimetype": "text/x-python",
   "name": "python",
   "nbconvert_exporter": "python",
   "pygments_lexer": "ipython3",
   "version": "3.8.10"
  }
 },
 "nbformat": 4,
 "nbformat_minor": 5
}
