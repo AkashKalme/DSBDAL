{
 "cells": [
  {
   "cell_type": "code",
   "execution_count": 1,
   "id": "c5e434a5",
   "metadata": {},
   "outputs": [],
   "source": [
    "import nltk"
   ]
  },
  {
   "cell_type": "code",
   "execution_count": 2,
   "id": "febfa293",
   "metadata": {},
   "outputs": [],
   "source": [
    "text = '''The climate crisis poses an existential threat. We want to create political space for ambitious action, \n",
    "help ensure a just transition to the low carbon economy and encourage the scaling-up of support for particularly \n",
    "climate vulnerable communities.'''"
   ]
  },
  {
   "cell_type": "code",
   "execution_count": null,
   "id": "57435f23",
   "metadata": {},
   "outputs": [],
   "source": []
  }
 ],
 "metadata": {
  "kernelspec": {
   "display_name": "Python 3 (ipykernel)",
   "language": "python",
   "name": "python3"
  },
  "language_info": {
   "codemirror_mode": {
    "name": "ipython",
    "version": 3
   },
   "file_extension": ".py",
   "mimetype": "text/x-python",
   "name": "python",
   "nbconvert_exporter": "python",
   "pygments_lexer": "ipython3",
   "version": "3.10.10"
  }
 },
 "nbformat": 4,
 "nbformat_minor": 5
}
