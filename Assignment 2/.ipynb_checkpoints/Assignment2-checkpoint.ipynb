{
 "cells": [
  {
   "cell_type": "code",
   "execution_count": 1,
   "id": "0510cac8",
   "metadata": {},
   "outputs": [],
   "source": [
    "import pandas as pd\n",
    "import numpy as np"
   ]
  },
  {
   "cell_type": "code",
   "execution_count": 2,
   "id": "68cb4402",
   "metadata": {},
   "outputs": [],
   "source": [
    "file = pd.read_csv('/home/TE/Documents/31141/Assignment 2/AcademicPerformance.csv')"
   ]
  },
  {
   "cell_type": "code",
   "execution_count": 3,
   "id": "958ae5cb",
   "metadata": {},
   "outputs": [],
   "source": [
    "df = pd.DataFrame(file)"
   ]
  },
  {
   "cell_type": "code",
   "execution_count": 4,
   "id": "52113e8c",
   "metadata": {},
   "outputs": [
    {
     "data": {
      "text/plain": [
       "(250, 11)"
      ]
     },
     "execution_count": 4,
     "metadata": {},
     "output_type": "execute_result"
    }
   ],
   "source": [
    "df.shape"
   ]
  },
  {
   "cell_type": "code",
   "execution_count": 5,
   "id": "a10ac6d7",
   "metadata": {},
   "outputs": [
    {
     "data": {
      "text/plain": [
       "2750"
      ]
     },
     "execution_count": 5,
     "metadata": {},
     "output_type": "execute_result"
    }
   ],
   "source": [
    "df.size"
   ]
  },
  {
   "cell_type": "code",
   "execution_count": 6,
   "id": "35596f81",
   "metadata": {},
   "outputs": [
    {
     "data": {
      "text/plain": [
       "<bound method DataFrame.info of      Roll No.     Name Gender             Address      Suburb Fee Status  \\\n",
       "0           1    James      M        85 Turner St  Abbotsford       Paid   \n",
       "1           2     John      M     25 Bloomburg St  Abbotsford       Paid   \n",
       "2           3   Robert      M        5 Charles St  Abbotsford        NaN   \n",
       "3           4  Michael      M    40 Federation La  Abbotsford       Paid   \n",
       "4           5  William      M         55a Park St  Abbotsford       Paid   \n",
       "..        ...      ...    ...                 ...         ...        ...   \n",
       "245       246    Peggy      F           40 New St    Armadale       Paid   \n",
       "246       247    Caleb      M     35 Northcote Rd    Armadale       Paid   \n",
       "247       248  Eleanor      F  7/53 Wattletree Rd    Armadale       Paid   \n",
       "248       249    Isaac      M         791 High St    Armadale       Paid   \n",
       "249       250     Todd      M      25 Llaneast St    Armadale       Paid   \n",
       "\n",
       "       Height    Weight  Math Score  Science Score  English Score  \n",
       "0    65.78331  112.9925        72.0           72.0           74.0  \n",
       "1    71.51521  136.4873        69.0           90.0           88.0  \n",
       "2    69.39874  153.0269        90.0           95.0           93.0  \n",
       "3    68.21660  142.3354        47.0           57.0           44.0  \n",
       "4    67.78781  144.2971        76.0           78.0           75.0  \n",
       "..        ...       ...         ...            ...            ...  \n",
       "245  69.89473  115.6752        85.0           76.0           71.0  \n",
       "246  69.83048  134.7905        89.0           76.0           74.0  \n",
       "247  65.39790  120.5746         NaN           70.0           68.0  \n",
       "248  68.32214  120.0835        65.0           64.0           62.0  \n",
       "249  65.83982  106.2265        68.0           60.0           53.0  \n",
       "\n",
       "[250 rows x 11 columns]>"
      ]
     },
     "execution_count": 6,
     "metadata": {},
     "output_type": "execute_result"
    }
   ],
   "source": [
    "df.info"
   ]
  },
  {
   "cell_type": "code",
   "execution_count": 7,
   "id": "cf87e6d2",
   "metadata": {},
   "outputs": [
    {
     "data": {
      "text/html": [
       "<div>\n",
       "<style scoped>\n",
       "    .dataframe tbody tr th:only-of-type {\n",
       "        vertical-align: middle;\n",
       "    }\n",
       "\n",
       "    .dataframe tbody tr th {\n",
       "        vertical-align: top;\n",
       "    }\n",
       "\n",
       "    .dataframe thead th {\n",
       "        text-align: right;\n",
       "    }\n",
       "</style>\n",
       "<table border=\"1\" class=\"dataframe\">\n",
       "  <thead>\n",
       "    <tr style=\"text-align: right;\">\n",
       "      <th></th>\n",
       "      <th>Roll No.</th>\n",
       "      <th>Height</th>\n",
       "      <th>Weight</th>\n",
       "      <th>Math Score</th>\n",
       "      <th>Science Score</th>\n",
       "      <th>English Score</th>\n",
       "    </tr>\n",
       "  </thead>\n",
       "  <tbody>\n",
       "    <tr>\n",
       "      <th>count</th>\n",
       "      <td>250.000000</td>\n",
       "      <td>250.000000</td>\n",
       "      <td>250.000000</td>\n",
       "      <td>237.000000</td>\n",
       "      <td>239.000000</td>\n",
       "      <td>243.000000</td>\n",
       "    </tr>\n",
       "    <tr>\n",
       "      <th>mean</th>\n",
       "      <td>125.500000</td>\n",
       "      <td>67.991650</td>\n",
       "      <td>127.286554</td>\n",
       "      <td>64.350211</td>\n",
       "      <td>67.100418</td>\n",
       "      <td>66.419753</td>\n",
       "    </tr>\n",
       "    <tr>\n",
       "      <th>std</th>\n",
       "      <td>72.312977</td>\n",
       "      <td>1.923236</td>\n",
       "      <td>11.931546</td>\n",
       "      <td>17.606087</td>\n",
       "      <td>17.591727</td>\n",
       "      <td>16.236270</td>\n",
       "    </tr>\n",
       "    <tr>\n",
       "      <th>min</th>\n",
       "      <td>1.000000</td>\n",
       "      <td>63.425770</td>\n",
       "      <td>97.901910</td>\n",
       "      <td>1.000000</td>\n",
       "      <td>2.000000</td>\n",
       "      <td>10.000000</td>\n",
       "    </tr>\n",
       "    <tr>\n",
       "      <th>25%</th>\n",
       "      <td>63.250000</td>\n",
       "      <td>66.586337</td>\n",
       "      <td>119.324050</td>\n",
       "      <td>55.000000</td>\n",
       "      <td>56.000000</td>\n",
       "      <td>55.500000</td>\n",
       "    </tr>\n",
       "    <tr>\n",
       "      <th>50%</th>\n",
       "      <td>125.500000</td>\n",
       "      <td>67.991660</td>\n",
       "      <td>127.872700</td>\n",
       "      <td>65.000000</td>\n",
       "      <td>69.000000</td>\n",
       "      <td>68.000000</td>\n",
       "    </tr>\n",
       "    <tr>\n",
       "      <th>75%</th>\n",
       "      <td>187.750000</td>\n",
       "      <td>69.329055</td>\n",
       "      <td>136.157100</td>\n",
       "      <td>76.000000</td>\n",
       "      <td>80.000000</td>\n",
       "      <td>77.000000</td>\n",
       "    </tr>\n",
       "    <tr>\n",
       "      <th>max</th>\n",
       "      <td>250.000000</td>\n",
       "      <td>73.901070</td>\n",
       "      <td>158.956200</td>\n",
       "      <td>100.000000</td>\n",
       "      <td>100.000000</td>\n",
       "      <td>100.000000</td>\n",
       "    </tr>\n",
       "  </tbody>\n",
       "</table>\n",
       "</div>"
      ],
      "text/plain": [
       "         Roll No.      Height      Weight  Math Score  Science Score  \\\n",
       "count  250.000000  250.000000  250.000000  237.000000     239.000000   \n",
       "mean   125.500000   67.991650  127.286554   64.350211      67.100418   \n",
       "std     72.312977    1.923236   11.931546   17.606087      17.591727   \n",
       "min      1.000000   63.425770   97.901910    1.000000       2.000000   \n",
       "25%     63.250000   66.586337  119.324050   55.000000      56.000000   \n",
       "50%    125.500000   67.991660  127.872700   65.000000      69.000000   \n",
       "75%    187.750000   69.329055  136.157100   76.000000      80.000000   \n",
       "max    250.000000   73.901070  158.956200  100.000000     100.000000   \n",
       "\n",
       "       English Score  \n",
       "count     243.000000  \n",
       "mean       66.419753  \n",
       "std        16.236270  \n",
       "min        10.000000  \n",
       "25%        55.500000  \n",
       "50%        68.000000  \n",
       "75%        77.000000  \n",
       "max       100.000000  "
      ]
     },
     "execution_count": 7,
     "metadata": {},
     "output_type": "execute_result"
    }
   ],
   "source": [
    "df.describe()"
   ]
  },
  {
   "cell_type": "code",
   "execution_count": 8,
   "id": "65b9afc2",
   "metadata": {},
   "outputs": [
    {
     "data": {
      "text/html": [
       "<div>\n",
       "<style scoped>\n",
       "    .dataframe tbody tr th:only-of-type {\n",
       "        vertical-align: middle;\n",
       "    }\n",
       "\n",
       "    .dataframe tbody tr th {\n",
       "        vertical-align: top;\n",
       "    }\n",
       "\n",
       "    .dataframe thead th {\n",
       "        text-align: right;\n",
       "    }\n",
       "</style>\n",
       "<table border=\"1\" class=\"dataframe\">\n",
       "  <thead>\n",
       "    <tr style=\"text-align: right;\">\n",
       "      <th></th>\n",
       "      <th>Roll No.</th>\n",
       "      <th>Name</th>\n",
       "      <th>Gender</th>\n",
       "      <th>Address</th>\n",
       "      <th>Suburb</th>\n",
       "      <th>Fee Status</th>\n",
       "      <th>Height</th>\n",
       "      <th>Weight</th>\n",
       "      <th>Math Score</th>\n",
       "      <th>Science Score</th>\n",
       "      <th>English Score</th>\n",
       "    </tr>\n",
       "  </thead>\n",
       "  <tbody>\n",
       "    <tr>\n",
       "      <th>0</th>\n",
       "      <td>1</td>\n",
       "      <td>James</td>\n",
       "      <td>M</td>\n",
       "      <td>85 Turner St</td>\n",
       "      <td>Abbotsford</td>\n",
       "      <td>Paid</td>\n",
       "      <td>65.78331</td>\n",
       "      <td>112.9925</td>\n",
       "      <td>72.0</td>\n",
       "      <td>72.0</td>\n",
       "      <td>74.0</td>\n",
       "    </tr>\n",
       "    <tr>\n",
       "      <th>1</th>\n",
       "      <td>2</td>\n",
       "      <td>John</td>\n",
       "      <td>M</td>\n",
       "      <td>25 Bloomburg St</td>\n",
       "      <td>Abbotsford</td>\n",
       "      <td>Paid</td>\n",
       "      <td>71.51521</td>\n",
       "      <td>136.4873</td>\n",
       "      <td>69.0</td>\n",
       "      <td>90.0</td>\n",
       "      <td>88.0</td>\n",
       "    </tr>\n",
       "    <tr>\n",
       "      <th>2</th>\n",
       "      <td>3</td>\n",
       "      <td>Robert</td>\n",
       "      <td>M</td>\n",
       "      <td>5 Charles St</td>\n",
       "      <td>Abbotsford</td>\n",
       "      <td>NaN</td>\n",
       "      <td>69.39874</td>\n",
       "      <td>153.0269</td>\n",
       "      <td>90.0</td>\n",
       "      <td>95.0</td>\n",
       "      <td>93.0</td>\n",
       "    </tr>\n",
       "    <tr>\n",
       "      <th>3</th>\n",
       "      <td>4</td>\n",
       "      <td>Michael</td>\n",
       "      <td>M</td>\n",
       "      <td>40 Federation La</td>\n",
       "      <td>Abbotsford</td>\n",
       "      <td>Paid</td>\n",
       "      <td>68.21660</td>\n",
       "      <td>142.3354</td>\n",
       "      <td>47.0</td>\n",
       "      <td>57.0</td>\n",
       "      <td>44.0</td>\n",
       "    </tr>\n",
       "    <tr>\n",
       "      <th>4</th>\n",
       "      <td>5</td>\n",
       "      <td>William</td>\n",
       "      <td>M</td>\n",
       "      <td>55a Park St</td>\n",
       "      <td>Abbotsford</td>\n",
       "      <td>Paid</td>\n",
       "      <td>67.78781</td>\n",
       "      <td>144.2971</td>\n",
       "      <td>76.0</td>\n",
       "      <td>78.0</td>\n",
       "      <td>75.0</td>\n",
       "    </tr>\n",
       "    <tr>\n",
       "      <th>...</th>\n",
       "      <td>...</td>\n",
       "      <td>...</td>\n",
       "      <td>...</td>\n",
       "      <td>...</td>\n",
       "      <td>...</td>\n",
       "      <td>...</td>\n",
       "      <td>...</td>\n",
       "      <td>...</td>\n",
       "      <td>...</td>\n",
       "      <td>...</td>\n",
       "      <td>...</td>\n",
       "    </tr>\n",
       "    <tr>\n",
       "      <th>245</th>\n",
       "      <td>246</td>\n",
       "      <td>Peggy</td>\n",
       "      <td>F</td>\n",
       "      <td>40 New St</td>\n",
       "      <td>Armadale</td>\n",
       "      <td>Paid</td>\n",
       "      <td>69.89473</td>\n",
       "      <td>115.6752</td>\n",
       "      <td>85.0</td>\n",
       "      <td>76.0</td>\n",
       "      <td>71.0</td>\n",
       "    </tr>\n",
       "    <tr>\n",
       "      <th>246</th>\n",
       "      <td>247</td>\n",
       "      <td>Caleb</td>\n",
       "      <td>M</td>\n",
       "      <td>35 Northcote Rd</td>\n",
       "      <td>Armadale</td>\n",
       "      <td>Paid</td>\n",
       "      <td>69.83048</td>\n",
       "      <td>134.7905</td>\n",
       "      <td>89.0</td>\n",
       "      <td>76.0</td>\n",
       "      <td>74.0</td>\n",
       "    </tr>\n",
       "    <tr>\n",
       "      <th>247</th>\n",
       "      <td>248</td>\n",
       "      <td>Eleanor</td>\n",
       "      <td>F</td>\n",
       "      <td>7/53 Wattletree Rd</td>\n",
       "      <td>Armadale</td>\n",
       "      <td>Paid</td>\n",
       "      <td>65.39790</td>\n",
       "      <td>120.5746</td>\n",
       "      <td>NaN</td>\n",
       "      <td>70.0</td>\n",
       "      <td>68.0</td>\n",
       "    </tr>\n",
       "    <tr>\n",
       "      <th>248</th>\n",
       "      <td>249</td>\n",
       "      <td>Isaac</td>\n",
       "      <td>M</td>\n",
       "      <td>791 High St</td>\n",
       "      <td>Armadale</td>\n",
       "      <td>Paid</td>\n",
       "      <td>68.32214</td>\n",
       "      <td>120.0835</td>\n",
       "      <td>65.0</td>\n",
       "      <td>64.0</td>\n",
       "      <td>62.0</td>\n",
       "    </tr>\n",
       "    <tr>\n",
       "      <th>249</th>\n",
       "      <td>250</td>\n",
       "      <td>Todd</td>\n",
       "      <td>M</td>\n",
       "      <td>25 Llaneast St</td>\n",
       "      <td>Armadale</td>\n",
       "      <td>Paid</td>\n",
       "      <td>65.83982</td>\n",
       "      <td>106.2265</td>\n",
       "      <td>68.0</td>\n",
       "      <td>60.0</td>\n",
       "      <td>53.0</td>\n",
       "    </tr>\n",
       "  </tbody>\n",
       "</table>\n",
       "<p>250 rows × 11 columns</p>\n",
       "</div>"
      ],
      "text/plain": [
       "     Roll No.     Name Gender             Address      Suburb Fee Status  \\\n",
       "0           1    James      M        85 Turner St  Abbotsford       Paid   \n",
       "1           2     John      M     25 Bloomburg St  Abbotsford       Paid   \n",
       "2           3   Robert      M        5 Charles St  Abbotsford        NaN   \n",
       "3           4  Michael      M    40 Federation La  Abbotsford       Paid   \n",
       "4           5  William      M         55a Park St  Abbotsford       Paid   \n",
       "..        ...      ...    ...                 ...         ...        ...   \n",
       "245       246    Peggy      F           40 New St    Armadale       Paid   \n",
       "246       247    Caleb      M     35 Northcote Rd    Armadale       Paid   \n",
       "247       248  Eleanor      F  7/53 Wattletree Rd    Armadale       Paid   \n",
       "248       249    Isaac      M         791 High St    Armadale       Paid   \n",
       "249       250     Todd      M      25 Llaneast St    Armadale       Paid   \n",
       "\n",
       "       Height    Weight  Math Score  Science Score  English Score  \n",
       "0    65.78331  112.9925        72.0           72.0           74.0  \n",
       "1    71.51521  136.4873        69.0           90.0           88.0  \n",
       "2    69.39874  153.0269        90.0           95.0           93.0  \n",
       "3    68.21660  142.3354        47.0           57.0           44.0  \n",
       "4    67.78781  144.2971        76.0           78.0           75.0  \n",
       "..        ...       ...         ...            ...            ...  \n",
       "245  69.89473  115.6752        85.0           76.0           71.0  \n",
       "246  69.83048  134.7905        89.0           76.0           74.0  \n",
       "247  65.39790  120.5746         NaN           70.0           68.0  \n",
       "248  68.32214  120.0835        65.0           64.0           62.0  \n",
       "249  65.83982  106.2265        68.0           60.0           53.0  \n",
       "\n",
       "[250 rows x 11 columns]"
      ]
     },
     "execution_count": 8,
     "metadata": {},
     "output_type": "execute_result"
    }
   ],
   "source": [
    "df"
   ]
  },
  {
   "cell_type": "code",
   "execution_count": 9,
   "id": "26a66290",
   "metadata": {},
   "outputs": [
    {
     "data": {
      "text/html": [
       "<div>\n",
       "<style scoped>\n",
       "    .dataframe tbody tr th:only-of-type {\n",
       "        vertical-align: middle;\n",
       "    }\n",
       "\n",
       "    .dataframe tbody tr th {\n",
       "        vertical-align: top;\n",
       "    }\n",
       "\n",
       "    .dataframe thead th {\n",
       "        text-align: right;\n",
       "    }\n",
       "</style>\n",
       "<table border=\"1\" class=\"dataframe\">\n",
       "  <thead>\n",
       "    <tr style=\"text-align: right;\">\n",
       "      <th></th>\n",
       "      <th>Roll No.</th>\n",
       "      <th>Name</th>\n",
       "      <th>Gender</th>\n",
       "      <th>Address</th>\n",
       "      <th>Suburb</th>\n",
       "      <th>Fee Status</th>\n",
       "      <th>Height</th>\n",
       "      <th>Weight</th>\n",
       "      <th>Math Score</th>\n",
       "      <th>Science Score</th>\n",
       "      <th>English Score</th>\n",
       "    </tr>\n",
       "  </thead>\n",
       "  <tbody>\n",
       "    <tr>\n",
       "      <th>0</th>\n",
       "      <td>False</td>\n",
       "      <td>False</td>\n",
       "      <td>False</td>\n",
       "      <td>False</td>\n",
       "      <td>False</td>\n",
       "      <td>False</td>\n",
       "      <td>False</td>\n",
       "      <td>False</td>\n",
       "      <td>False</td>\n",
       "      <td>False</td>\n",
       "      <td>False</td>\n",
       "    </tr>\n",
       "    <tr>\n",
       "      <th>1</th>\n",
       "      <td>False</td>\n",
       "      <td>False</td>\n",
       "      <td>False</td>\n",
       "      <td>False</td>\n",
       "      <td>False</td>\n",
       "      <td>False</td>\n",
       "      <td>False</td>\n",
       "      <td>False</td>\n",
       "      <td>False</td>\n",
       "      <td>False</td>\n",
       "      <td>False</td>\n",
       "    </tr>\n",
       "    <tr>\n",
       "      <th>2</th>\n",
       "      <td>False</td>\n",
       "      <td>False</td>\n",
       "      <td>False</td>\n",
       "      <td>False</td>\n",
       "      <td>False</td>\n",
       "      <td>True</td>\n",
       "      <td>False</td>\n",
       "      <td>False</td>\n",
       "      <td>False</td>\n",
       "      <td>False</td>\n",
       "      <td>False</td>\n",
       "    </tr>\n",
       "    <tr>\n",
       "      <th>3</th>\n",
       "      <td>False</td>\n",
       "      <td>False</td>\n",
       "      <td>False</td>\n",
       "      <td>False</td>\n",
       "      <td>False</td>\n",
       "      <td>False</td>\n",
       "      <td>False</td>\n",
       "      <td>False</td>\n",
       "      <td>False</td>\n",
       "      <td>False</td>\n",
       "      <td>False</td>\n",
       "    </tr>\n",
       "    <tr>\n",
       "      <th>4</th>\n",
       "      <td>False</td>\n",
       "      <td>False</td>\n",
       "      <td>False</td>\n",
       "      <td>False</td>\n",
       "      <td>False</td>\n",
       "      <td>False</td>\n",
       "      <td>False</td>\n",
       "      <td>False</td>\n",
       "      <td>False</td>\n",
       "      <td>False</td>\n",
       "      <td>False</td>\n",
       "    </tr>\n",
       "    <tr>\n",
       "      <th>...</th>\n",
       "      <td>...</td>\n",
       "      <td>...</td>\n",
       "      <td>...</td>\n",
       "      <td>...</td>\n",
       "      <td>...</td>\n",
       "      <td>...</td>\n",
       "      <td>...</td>\n",
       "      <td>...</td>\n",
       "      <td>...</td>\n",
       "      <td>...</td>\n",
       "      <td>...</td>\n",
       "    </tr>\n",
       "    <tr>\n",
       "      <th>245</th>\n",
       "      <td>False</td>\n",
       "      <td>False</td>\n",
       "      <td>False</td>\n",
       "      <td>False</td>\n",
       "      <td>False</td>\n",
       "      <td>False</td>\n",
       "      <td>False</td>\n",
       "      <td>False</td>\n",
       "      <td>False</td>\n",
       "      <td>False</td>\n",
       "      <td>False</td>\n",
       "    </tr>\n",
       "    <tr>\n",
       "      <th>246</th>\n",
       "      <td>False</td>\n",
       "      <td>False</td>\n",
       "      <td>False</td>\n",
       "      <td>False</td>\n",
       "      <td>False</td>\n",
       "      <td>False</td>\n",
       "      <td>False</td>\n",
       "      <td>False</td>\n",
       "      <td>False</td>\n",
       "      <td>False</td>\n",
       "      <td>False</td>\n",
       "    </tr>\n",
       "    <tr>\n",
       "      <th>247</th>\n",
       "      <td>False</td>\n",
       "      <td>False</td>\n",
       "      <td>False</td>\n",
       "      <td>False</td>\n",
       "      <td>False</td>\n",
       "      <td>False</td>\n",
       "      <td>False</td>\n",
       "      <td>False</td>\n",
       "      <td>True</td>\n",
       "      <td>False</td>\n",
       "      <td>False</td>\n",
       "    </tr>\n",
       "    <tr>\n",
       "      <th>248</th>\n",
       "      <td>False</td>\n",
       "      <td>False</td>\n",
       "      <td>False</td>\n",
       "      <td>False</td>\n",
       "      <td>False</td>\n",
       "      <td>False</td>\n",
       "      <td>False</td>\n",
       "      <td>False</td>\n",
       "      <td>False</td>\n",
       "      <td>False</td>\n",
       "      <td>False</td>\n",
       "    </tr>\n",
       "    <tr>\n",
       "      <th>249</th>\n",
       "      <td>False</td>\n",
       "      <td>False</td>\n",
       "      <td>False</td>\n",
       "      <td>False</td>\n",
       "      <td>False</td>\n",
       "      <td>False</td>\n",
       "      <td>False</td>\n",
       "      <td>False</td>\n",
       "      <td>False</td>\n",
       "      <td>False</td>\n",
       "      <td>False</td>\n",
       "    </tr>\n",
       "  </tbody>\n",
       "</table>\n",
       "<p>250 rows × 11 columns</p>\n",
       "</div>"
      ],
      "text/plain": [
       "     Roll No.   Name  Gender  Address  Suburb  Fee Status  Height  Weight  \\\n",
       "0       False  False   False    False   False       False   False   False   \n",
       "1       False  False   False    False   False       False   False   False   \n",
       "2       False  False   False    False   False        True   False   False   \n",
       "3       False  False   False    False   False       False   False   False   \n",
       "4       False  False   False    False   False       False   False   False   \n",
       "..        ...    ...     ...      ...     ...         ...     ...     ...   \n",
       "245     False  False   False    False   False       False   False   False   \n",
       "246     False  False   False    False   False       False   False   False   \n",
       "247     False  False   False    False   False       False   False   False   \n",
       "248     False  False   False    False   False       False   False   False   \n",
       "249     False  False   False    False   False       False   False   False   \n",
       "\n",
       "     Math Score  Science Score  English Score  \n",
       "0         False          False          False  \n",
       "1         False          False          False  \n",
       "2         False          False          False  \n",
       "3         False          False          False  \n",
       "4         False          False          False  \n",
       "..          ...            ...            ...  \n",
       "245       False          False          False  \n",
       "246       False          False          False  \n",
       "247        True          False          False  \n",
       "248       False          False          False  \n",
       "249       False          False          False  \n",
       "\n",
       "[250 rows x 11 columns]"
      ]
     },
     "execution_count": 9,
     "metadata": {},
     "output_type": "execute_result"
    }
   ],
   "source": [
    "df.isna()"
   ]
  },
  {
   "cell_type": "code",
   "execution_count": 10,
   "id": "e430e84e",
   "metadata": {},
   "outputs": [
    {
     "data": {
      "text/plain": [
       "Roll No.          0\n",
       "Name              0\n",
       "Gender            0\n",
       "Address           0\n",
       "Suburb            0\n",
       "Fee Status       28\n",
       "Height            0\n",
       "Weight            0\n",
       "Math Score       13\n",
       "Science Score    11\n",
       "English Score     7\n",
       "dtype: int64"
      ]
     },
     "execution_count": 10,
     "metadata": {},
     "output_type": "execute_result"
    }
   ],
   "source": [
    "df.isnull().sum()"
   ]
  },
  {
   "cell_type": "code",
   "execution_count": 11,
   "id": "6d81337c",
   "metadata": {},
   "outputs": [
    {
     "data": {
      "text/plain": [
       "59"
      ]
     },
     "execution_count": 11,
     "metadata": {},
     "output_type": "execute_result"
    }
   ],
   "source": [
    "df.isnull().sum().sum()"
   ]
  },
  {
   "cell_type": "code",
   "execution_count": 12,
   "id": "960b0824",
   "metadata": {},
   "outputs": [],
   "source": [
    "df['Math Score'].fillna(0, inplace=True)"
   ]
  },
  {
   "cell_type": "code",
   "execution_count": 13,
   "id": "4dd1f4a1",
   "metadata": {},
   "outputs": [],
   "source": [
    "df['Science Score'].fillna(0, inplace=True)"
   ]
  },
  {
   "cell_type": "code",
   "execution_count": 14,
   "id": "b46df638",
   "metadata": {},
   "outputs": [],
   "source": [
    "df['English Score'].fillna(0, inplace=True)"
   ]
  },
  {
   "cell_type": "code",
   "execution_count": 15,
   "id": "5d6d781b",
   "metadata": {},
   "outputs": [
    {
     "data": {
      "text/plain": [
       "Roll No.          0\n",
       "Name              0\n",
       "Gender            0\n",
       "Address           0\n",
       "Suburb            0\n",
       "Fee Status       28\n",
       "Height            0\n",
       "Weight            0\n",
       "Math Score        0\n",
       "Science Score     0\n",
       "English Score     0\n",
       "dtype: int64"
      ]
     },
     "execution_count": 15,
     "metadata": {},
     "output_type": "execute_result"
    }
   ],
   "source": [
    "df.isnull().sum()"
   ]
  },
  {
   "cell_type": "code",
   "execution_count": 16,
   "id": "585c7422",
   "metadata": {},
   "outputs": [
    {
     "data": {
      "text/plain": [
       "<AxesSubplot:xlabel='Math Score'>"
      ]
     },
     "execution_count": 16,
     "metadata": {},
     "output_type": "execute_result"
    },
    {
     "data": {
      "image/png": "[encoded data removed]",
      "text/plain": [
       "<Figure size 432x288 with 1 Axes>"
      ]
     },
     "metadata": {
      "needs_background": "light"
     },
     "output_type": "display_data"
    }
   ],
   "source": [
    "# Outliers Detection using Boxplot\n",
    "import seaborn as sns\n",
    "sns.boxplot(x=df['Math Score'])"
   ]
  },
  {
   "cell_type": "code",
   "execution_count": 17,
   "id": "5b36b252",
   "metadata": {},
   "outputs": [
    {
     "data": {
      "text/plain": [
       "<AxesSubplot:xlabel='Science Score'>"
      ]
     },
     "execution_count": 17,
     "metadata": {},
     "output_type": "execute_result"
    },
    {
     "data": {
      "image/png": "[encoded data removed]",
      "text/plain": [
       "<Figure size 432x288 with 1 Axes>"
      ]
     },
     "metadata": {
      "needs_background": "light"
     },
     "output_type": "display_data"
    }
   ],
   "source": [
    "sns.boxplot(x=df['Science Score'])"
   ]
  },
  {
   "cell_type": "code",
   "execution_count": 18,
   "id": "fdcdf695",
   "metadata": {},
   "outputs": [
    {
     "data": {
      "text/plain": [
       "<AxesSubplot:xlabel='English Score'>"
      ]
     },
     "execution_count": 18,
     "metadata": {},
     "output_type": "execute_result"
    },
    {
     "data": {
      "image/png": "[encoded data removed]",
      "text/plain": [
       "<Figure size 432x288 with 1 Axes>"
      ]
     },
     "metadata": {
      "needs_background": "light"
     },
     "output_type": "display_data"
    }
   ],
   "source": [
    "sns.boxplot(x=df['English Score'])"
   ]
  },
  {
   "cell_type": "code",
   "execution_count": 19,
   "id": "49033981",
   "metadata": {},
   "outputs": [
    {
     "data": {
      "image/png": "[encoded data removed]",
      "text/plain": [
       "<Figure size 1152x576 with 1 Axes>"
      ]
     },
     "metadata": {
      "needs_background": "light"
     },
     "output_type": "display_data"
    }
   ],
   "source": [
    "# Outlier Detection using Scatter Plot\n",
    "import matplotlib.pyplot as plt\n",
    "fig, mx = plt.subplots(figsize=(16,8))\n",
    "colors = {'M':'blue', 'F':'red'}\n",
    "mx.scatter(df['Roll No.'], df['Math Score'], c=df['Gender'].map(colors))\n",
    "mx.set_xlabel('Math Score')\n",
    "mx.set_ylabel('Roll Number')\n",
    "plt.show()"
   ]
  },
  {
   "cell_type": "code",
   "execution_count": 20,
   "id": "b7885965",
   "metadata": {},
   "outputs": [
    {
     "data": {
      "image/png": "[encoded data removed]",
      "text/plain": [
       "<Figure size 1152x576 with 1 Axes>"
      ]
     },
     "metadata": {
      "needs_background": "light"
     },
     "output_type": "display_data"
    }
   ],
   "source": [
    "fig, sx = plt.subplots(figsize=(16,8))\n",
    "colors = {'M':'blue', 'F':'red'}\n",
    "sx.scatter(df['Roll No.'], df['Science Score'], c=df['Gender'].map(colors))\n",
    "sx.set_xlabel('Science Score')\n",
    "sx.set_ylabel('Roll Number')\n",
    "plt.show()"
   ]
  },
  {
   "cell_type": "code",
   "execution_count": 21,
   "id": "7bb69318",
   "metadata": {},
   "outputs": [
    {
     "data": {
      "image/png": "[encoded data removed]",
      "text/plain": [
       "<Figure size 1152x576 with 1 Axes>"
      ]
     },
     "metadata": {
      "needs_background": "light"
     },
     "output_type": "display_data"
    }
   ],
   "source": [
    "fig, ex = plt.subplots(figsize=(16,8))\n",
    "colors = {'M':'blue', 'F':'red'}\n",
    "ex.scatter(df['Roll No.'], df['English Score'], c=df['Gender'].map(colors))\n",
    "ex.set_xlabel('English Score')\n",
    "ex.set_ylabel('Roll Number')\n",
    "plt.show()"
   ]
  },
  {
   "cell_type": "code",
   "execution_count": 22,
   "id": "9d9fe5d2",
   "metadata": {},
   "outputs": [
    {
     "name": "stdout",
     "output_type": "stream",
     "text": [
      "     Math Score  Science Score  English Score\n",
      "0      0.493363       0.356907       0.487319\n",
      "1      0.358761       1.175084       1.210039\n",
      "2      1.300978       1.402355       1.468153\n",
      "3      0.628325       0.324907       1.061365\n",
      "4      0.672833       0.629632       0.538942\n",
      "..          ...            ...            ...\n",
      "245    1.076641       0.538724       0.332451\n",
      "246    1.256111       0.538724       0.487319\n",
      "247    2.737097       0.265998       0.177583\n",
      "248    0.179291       0.006727       0.132154\n",
      "249    0.313893       0.188544       0.596760\n",
      "\n",
      "[250 rows x 3 columns]\n"
     ]
    }
   ],
   "source": [
    "# Detection of Ouliers using Z-Score\n",
    "from scipy import stats\n",
    "mz = np.abs(stats.zscore(df[['Math Score', 'Science Score', 'English Score']]))\n",
    "print(mz)"
   ]
  },
  {
   "cell_type": "code",
   "execution_count": null,
   "id": "938e107a",
   "metadata": {},
   "outputs": [],
   "source": []
  }
 ],
 "metadata": {
  "kernelspec": {
   "display_name": "Python 3 (ipykernel)",
   "language": "python",
   "name": "python3"
  },
  "language_info": {
   "codemirror_mode": {
    "name": "ipython",
    "version": 3
   },
   "file_extension": ".py",
   "mimetype": "text/x-python",
   "name": "python",
   "nbconvert_exporter": "python",
   "pygments_lexer": "ipython3",
   "version": "3.8.10"
  }
 },
 "nbformat": 4,
 "nbformat_minor": 5
}
