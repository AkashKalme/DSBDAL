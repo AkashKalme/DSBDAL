{
 "cells": [
  {
   "cell_type": "code",
   "execution_count": 46,
   "id": "0510cac8",
   "metadata": {},
   "outputs": [],
   "source": [
    "import pandas as pd\n",
    "import numpy as np"
   ]
  },
  {
   "cell_type": "code",
   "execution_count": 47,
   "id": "68cb4402",
   "metadata": {},
   "outputs": [],
   "source": [
    "file = pd.read_csv('/home/TE/Documents/31141/Assignment 2/AcademicPerformance.csv')"
   ]
  },
  {
   "cell_type": "code",
   "execution_count": 48,
   "id": "958ae5cb",
   "metadata": {},
   "outputs": [],
   "source": [
    "df = pd.DataFrame(file)"
   ]
  },
  {
   "cell_type": "code",
   "execution_count": 49,
   "id": "52113e8c",
   "metadata": {},
   "outputs": [
    {
     "data": {
      "text/plain": [
       "(250, 12)"
      ]
     },
     "execution_count": 49,
     "metadata": {},
     "output_type": "execute_result"
    }
   ],
   "source": [
    "df.shape"
   ]
  },
  {
   "cell_type": "code",
   "execution_count": 50,
   "id": "a10ac6d7",
   "metadata": {},
   "outputs": [
    {
     "data": {
      "text/plain": [
       "3000"
      ]
     },
     "execution_count": 50,
     "metadata": {},
     "output_type": "execute_result"
    }
   ],
   "source": [
    "df.size"
   ]
  },
  {
   "cell_type": "code",
   "execution_count": 51,
   "id": "35596f81",
   "metadata": {},
   "outputs": [
    {
     "data": {
      "text/plain": [
       "<bound method DataFrame.info of      Roll No.     Name Gender             Address      Suburb Fee Status  \\\n",
       "0           1    James      M        85 Turner St  Abbotsford       Paid   \n",
       "1           2     John      M     25 Bloomburg St  Abbotsford       Paid   \n",
       "2           3   Robert      M        5 Charles St  Abbotsford        NaN   \n",
       "3           4  Michael      M    40 Federation La  Abbotsford       Paid   \n",
       "4           5  William      M         55a Park St  Abbotsford       Paid   \n",
       "..        ...      ...    ...                 ...         ...        ...   \n",
       "245       246    Peggy      F           40 New St    Armadale       Paid   \n",
       "246       247    Caleb      M     35 Northcote Rd    Armadale       Paid   \n",
       "247       248  Eleanor      F  7/53 Wattletree Rd    Armadale       Paid   \n",
       "248       249    Isaac      M         791 High St    Armadale       Paid   \n",
       "249       250     Todd      M      25 Llaneast St    Armadale       Paid   \n",
       "\n",
       "       Height    Weight  Family Income  Math Score  Science Score  \\\n",
       "0    65.78331  112.9925         226802        72.0           72.0   \n",
       "1    71.51521  136.4873          89814        69.0           90.0   \n",
       "2    69.39874  153.0269         336951        90.0           95.0   \n",
       "3    68.21660  142.3354         160323        47.0           57.0   \n",
       "4    67.78781  144.2971         103497        76.0           78.0   \n",
       "..        ...       ...            ...         ...            ...   \n",
       "245  69.89473  115.6752         110342        85.0           76.0   \n",
       "246  69.83048  134.7905         143385        89.0           76.0   \n",
       "247  65.39790  120.5746         107189         NaN           70.0   \n",
       "248  68.32214  120.0835         212944        65.0           64.0   \n",
       "249  65.83982  106.2265         138634        68.0           60.0   \n",
       "\n",
       "     English Score  \n",
       "0             74.0  \n",
       "1             88.0  \n",
       "2             93.0  \n",
       "3             44.0  \n",
       "4             75.0  \n",
       "..             ...  \n",
       "245           71.0  \n",
       "246           74.0  \n",
       "247           68.0  \n",
       "248           62.0  \n",
       "249           53.0  \n",
       "\n",
       "[250 rows x 12 columns]>"
      ]
     },
     "execution_count": 51,
     "metadata": {},
     "output_type": "execute_result"
    }
   ],
   "source": [
    "df.info"
   ]
  },
  {
   "cell_type": "code",
   "execution_count": 52,
   "id": "cf87e6d2",
   "metadata": {},
   "outputs": [
    {
     "data": {
      "text/html": [
       "<div>\n",
       "<style scoped>\n",
       "    .dataframe tbody tr th:only-of-type {\n",
       "        vertical-align: middle;\n",
       "    }\n",
       "\n",
       "    .dataframe tbody tr th {\n",
       "        vertical-align: top;\n",
       "    }\n",
       "\n",
       "    .dataframe thead th {\n",
       "        text-align: right;\n",
       "    }\n",
       "</style>\n",
       "<table border=\"1\" class=\"dataframe\">\n",
       "  <thead>\n",
       "    <tr style=\"text-align: right;\">\n",
       "      <th></th>\n",
       "      <th>Roll No.</th>\n",
       "      <th>Height</th>\n",
       "      <th>Weight</th>\n",
       "      <th>Family Income</th>\n",
       "      <th>Math Score</th>\n",
       "      <th>Science Score</th>\n",
       "      <th>English Score</th>\n",
       "    </tr>\n",
       "  </thead>\n",
       "  <tbody>\n",
       "    <tr>\n",
       "      <th>count</th>\n",
       "      <td>250.000000</td>\n",
       "      <td>250.000000</td>\n",
       "      <td>250.000000</td>\n",
       "      <td>250.000000</td>\n",
       "      <td>237.000000</td>\n",
       "      <td>239.000000</td>\n",
       "      <td>243.000000</td>\n",
       "    </tr>\n",
       "    <tr>\n",
       "      <th>mean</th>\n",
       "      <td>125.500000</td>\n",
       "      <td>67.991650</td>\n",
       "      <td>127.286554</td>\n",
       "      <td>189602.740000</td>\n",
       "      <td>64.350211</td>\n",
       "      <td>67.100418</td>\n",
       "      <td>66.419753</td>\n",
       "    </tr>\n",
       "    <tr>\n",
       "      <th>std</th>\n",
       "      <td>72.312977</td>\n",
       "      <td>1.923236</td>\n",
       "      <td>11.931546</td>\n",
       "      <td>102901.700762</td>\n",
       "      <td>17.606087</td>\n",
       "      <td>17.591727</td>\n",
       "      <td>16.236270</td>\n",
       "    </tr>\n",
       "    <tr>\n",
       "      <th>min</th>\n",
       "      <td>1.000000</td>\n",
       "      <td>63.425770</td>\n",
       "      <td>97.901910</td>\n",
       "      <td>21175.000000</td>\n",
       "      <td>1.000000</td>\n",
       "      <td>2.000000</td>\n",
       "      <td>10.000000</td>\n",
       "    </tr>\n",
       "    <tr>\n",
       "      <th>25%</th>\n",
       "      <td>63.250000</td>\n",
       "      <td>66.586337</td>\n",
       "      <td>119.324050</td>\n",
       "      <td>110425.750000</td>\n",
       "      <td>55.000000</td>\n",
       "      <td>56.000000</td>\n",
       "      <td>55.500000</td>\n",
       "    </tr>\n",
       "    <tr>\n",
       "      <th>50%</th>\n",
       "      <td>125.500000</td>\n",
       "      <td>67.991660</td>\n",
       "      <td>127.872700</td>\n",
       "      <td>177610.000000</td>\n",
       "      <td>65.000000</td>\n",
       "      <td>69.000000</td>\n",
       "      <td>68.000000</td>\n",
       "    </tr>\n",
       "    <tr>\n",
       "      <th>75%</th>\n",
       "      <td>187.750000</td>\n",
       "      <td>69.329055</td>\n",
       "      <td>136.157100</td>\n",
       "      <td>239119.000000</td>\n",
       "      <td>76.000000</td>\n",
       "      <td>80.000000</td>\n",
       "      <td>77.000000</td>\n",
       "    </tr>\n",
       "    <tr>\n",
       "      <th>max</th>\n",
       "      <td>250.000000</td>\n",
       "      <td>73.901070</td>\n",
       "      <td>158.956200</td>\n",
       "      <td>537222.000000</td>\n",
       "      <td>100.000000</td>\n",
       "      <td>100.000000</td>\n",
       "      <td>100.000000</td>\n",
       "    </tr>\n",
       "  </tbody>\n",
       "</table>\n",
       "</div>"
      ],
      "text/plain": [
       "         Roll No.      Height      Weight  Family Income  Math Score  \\\n",
       "count  250.000000  250.000000  250.000000     250.000000  237.000000   \n",
       "mean   125.500000   67.991650  127.286554  189602.740000   64.350211   \n",
       "std     72.312977    1.923236   11.931546  102901.700762   17.606087   \n",
       "min      1.000000   63.425770   97.901910   21175.000000    1.000000   \n",
       "25%     63.250000   66.586337  119.324050  110425.750000   55.000000   \n",
       "50%    125.500000   67.991660  127.872700  177610.000000   65.000000   \n",
       "75%    187.750000   69.329055  136.157100  239119.000000   76.000000   \n",
       "max    250.000000   73.901070  158.956200  537222.000000  100.000000   \n",
       "\n",
       "       Science Score  English Score  \n",
       "count     239.000000     243.000000  \n",
       "mean       67.100418      66.419753  \n",
       "std        17.591727      16.236270  \n",
       "min         2.000000      10.000000  \n",
       "25%        56.000000      55.500000  \n",
       "50%        69.000000      68.000000  \n",
       "75%        80.000000      77.000000  \n",
       "max       100.000000     100.000000  "
      ]
     },
     "execution_count": 52,
     "metadata": {},
     "output_type": "execute_result"
    }
   ],
   "source": [
    "df.describe()"
   ]
  },
  {
   "cell_type": "code",
   "execution_count": 53,
   "id": "65b9afc2",
   "metadata": {},
   "outputs": [
    {
     "data": {
      "text/html": [
       "<div>\n",
       "<style scoped>\n",
       "    .dataframe tbody tr th:only-of-type {\n",
       "        vertical-align: middle;\n",
       "    }\n",
       "\n",
       "    .dataframe tbody tr th {\n",
       "        vertical-align: top;\n",
       "    }\n",
       "\n",
       "    .dataframe thead th {\n",
       "        text-align: right;\n",
       "    }\n",
       "</style>\n",
       "<table border=\"1\" class=\"dataframe\">\n",
       "  <thead>\n",
       "    <tr style=\"text-align: right;\">\n",
       "      <th></th>\n",
       "      <th>Roll No.</th>\n",
       "      <th>Name</th>\n",
       "      <th>Gender</th>\n",
       "      <th>Address</th>\n",
       "      <th>Suburb</th>\n",
       "      <th>Fee Status</th>\n",
       "      <th>Height</th>\n",
       "      <th>Weight</th>\n",
       "      <th>Family Income</th>\n",
       "      <th>Math Score</th>\n",
       "      <th>Science Score</th>\n",
       "      <th>English Score</th>\n",
       "    </tr>\n",
       "  </thead>\n",
       "  <tbody>\n",
       "    <tr>\n",
       "      <th>0</th>\n",
       "      <td>1</td>\n",
       "      <td>James</td>\n",
       "      <td>M</td>\n",
       "      <td>85 Turner St</td>\n",
       "      <td>Abbotsford</td>\n",
       "      <td>Paid</td>\n",
       "      <td>65.78331</td>\n",
       "      <td>112.9925</td>\n",
       "      <td>226802</td>\n",
       "      <td>72.0</td>\n",
       "      <td>72.0</td>\n",
       "      <td>74.0</td>\n",
       "    </tr>\n",
       "    <tr>\n",
       "      <th>1</th>\n",
       "      <td>2</td>\n",
       "      <td>John</td>\n",
       "      <td>M</td>\n",
       "      <td>25 Bloomburg St</td>\n",
       "      <td>Abbotsford</td>\n",
       "      <td>Paid</td>\n",
       "      <td>71.51521</td>\n",
       "      <td>136.4873</td>\n",
       "      <td>89814</td>\n",
       "      <td>69.0</td>\n",
       "      <td>90.0</td>\n",
       "      <td>88.0</td>\n",
       "    </tr>\n",
       "    <tr>\n",
       "      <th>2</th>\n",
       "      <td>3</td>\n",
       "      <td>Robert</td>\n",
       "      <td>M</td>\n",
       "      <td>5 Charles St</td>\n",
       "      <td>Abbotsford</td>\n",
       "      <td>NaN</td>\n",
       "      <td>69.39874</td>\n",
       "      <td>153.0269</td>\n",
       "      <td>336951</td>\n",
       "      <td>90.0</td>\n",
       "      <td>95.0</td>\n",
       "      <td>93.0</td>\n",
       "    </tr>\n",
       "    <tr>\n",
       "      <th>3</th>\n",
       "      <td>4</td>\n",
       "      <td>Michael</td>\n",
       "      <td>M</td>\n",
       "      <td>40 Federation La</td>\n",
       "      <td>Abbotsford</td>\n",
       "      <td>Paid</td>\n",
       "      <td>68.21660</td>\n",
       "      <td>142.3354</td>\n",
       "      <td>160323</td>\n",
       "      <td>47.0</td>\n",
       "      <td>57.0</td>\n",
       "      <td>44.0</td>\n",
       "    </tr>\n",
       "    <tr>\n",
       "      <th>4</th>\n",
       "      <td>5</td>\n",
       "      <td>William</td>\n",
       "      <td>M</td>\n",
       "      <td>55a Park St</td>\n",
       "      <td>Abbotsford</td>\n",
       "      <td>Paid</td>\n",
       "      <td>67.78781</td>\n",
       "      <td>144.2971</td>\n",
       "      <td>103497</td>\n",
       "      <td>76.0</td>\n",
       "      <td>78.0</td>\n",
       "      <td>75.0</td>\n",
       "    </tr>\n",
       "    <tr>\n",
       "      <th>...</th>\n",
       "      <td>...</td>\n",
       "      <td>...</td>\n",
       "      <td>...</td>\n",
       "      <td>...</td>\n",
       "      <td>...</td>\n",
       "      <td>...</td>\n",
       "      <td>...</td>\n",
       "      <td>...</td>\n",
       "      <td>...</td>\n",
       "      <td>...</td>\n",
       "      <td>...</td>\n",
       "      <td>...</td>\n",
       "    </tr>\n",
       "    <tr>\n",
       "      <th>245</th>\n",
       "      <td>246</td>\n",
       "      <td>Peggy</td>\n",
       "      <td>F</td>\n",
       "      <td>40 New St</td>\n",
       "      <td>Armadale</td>\n",
       "      <td>Paid</td>\n",
       "      <td>69.89473</td>\n",
       "      <td>115.6752</td>\n",
       "      <td>110342</td>\n",
       "      <td>85.0</td>\n",
       "      <td>76.0</td>\n",
       "      <td>71.0</td>\n",
       "    </tr>\n",
       "    <tr>\n",
       "      <th>246</th>\n",
       "      <td>247</td>\n",
       "      <td>Caleb</td>\n",
       "      <td>M</td>\n",
       "      <td>35 Northcote Rd</td>\n",
       "      <td>Armadale</td>\n",
       "      <td>Paid</td>\n",
       "      <td>69.83048</td>\n",
       "      <td>134.7905</td>\n",
       "      <td>143385</td>\n",
       "      <td>89.0</td>\n",
       "      <td>76.0</td>\n",
       "      <td>74.0</td>\n",
       "    </tr>\n",
       "    <tr>\n",
       "      <th>247</th>\n",
       "      <td>248</td>\n",
       "      <td>Eleanor</td>\n",
       "      <td>F</td>\n",
       "      <td>7/53 Wattletree Rd</td>\n",
       "      <td>Armadale</td>\n",
       "      <td>Paid</td>\n",
       "      <td>65.39790</td>\n",
       "      <td>120.5746</td>\n",
       "      <td>107189</td>\n",
       "      <td>NaN</td>\n",
       "      <td>70.0</td>\n",
       "      <td>68.0</td>\n",
       "    </tr>\n",
       "    <tr>\n",
       "      <th>248</th>\n",
       "      <td>249</td>\n",
       "      <td>Isaac</td>\n",
       "      <td>M</td>\n",
       "      <td>791 High St</td>\n",
       "      <td>Armadale</td>\n",
       "      <td>Paid</td>\n",
       "      <td>68.32214</td>\n",
       "      <td>120.0835</td>\n",
       "      <td>212944</td>\n",
       "      <td>65.0</td>\n",
       "      <td>64.0</td>\n",
       "      <td>62.0</td>\n",
       "    </tr>\n",
       "    <tr>\n",
       "      <th>249</th>\n",
       "      <td>250</td>\n",
       "      <td>Todd</td>\n",
       "      <td>M</td>\n",
       "      <td>25 Llaneast St</td>\n",
       "      <td>Armadale</td>\n",
       "      <td>Paid</td>\n",
       "      <td>65.83982</td>\n",
       "      <td>106.2265</td>\n",
       "      <td>138634</td>\n",
       "      <td>68.0</td>\n",
       "      <td>60.0</td>\n",
       "      <td>53.0</td>\n",
       "    </tr>\n",
       "  </tbody>\n",
       "</table>\n",
       "<p>250 rows × 12 columns</p>\n",
       "</div>"
      ],
      "text/plain": [
       "     Roll No.     Name Gender             Address      Suburb Fee Status  \\\n",
       "0           1    James      M        85 Turner St  Abbotsford       Paid   \n",
       "1           2     John      M     25 Bloomburg St  Abbotsford       Paid   \n",
       "2           3   Robert      M        5 Charles St  Abbotsford        NaN   \n",
       "3           4  Michael      M    40 Federation La  Abbotsford       Paid   \n",
       "4           5  William      M         55a Park St  Abbotsford       Paid   \n",
       "..        ...      ...    ...                 ...         ...        ...   \n",
       "245       246    Peggy      F           40 New St    Armadale       Paid   \n",
       "246       247    Caleb      M     35 Northcote Rd    Armadale       Paid   \n",
       "247       248  Eleanor      F  7/53 Wattletree Rd    Armadale       Paid   \n",
       "248       249    Isaac      M         791 High St    Armadale       Paid   \n",
       "249       250     Todd      M      25 Llaneast St    Armadale       Paid   \n",
       "\n",
       "       Height    Weight  Family Income  Math Score  Science Score  \\\n",
       "0    65.78331  112.9925         226802        72.0           72.0   \n",
       "1    71.51521  136.4873          89814        69.0           90.0   \n",
       "2    69.39874  153.0269         336951        90.0           95.0   \n",
       "3    68.21660  142.3354         160323        47.0           57.0   \n",
       "4    67.78781  144.2971         103497        76.0           78.0   \n",
       "..        ...       ...            ...         ...            ...   \n",
       "245  69.89473  115.6752         110342        85.0           76.0   \n",
       "246  69.83048  134.7905         143385        89.0           76.0   \n",
       "247  65.39790  120.5746         107189         NaN           70.0   \n",
       "248  68.32214  120.0835         212944        65.0           64.0   \n",
       "249  65.83982  106.2265         138634        68.0           60.0   \n",
       "\n",
       "     English Score  \n",
       "0             74.0  \n",
       "1             88.0  \n",
       "2             93.0  \n",
       "3             44.0  \n",
       "4             75.0  \n",
       "..             ...  \n",
       "245           71.0  \n",
       "246           74.0  \n",
       "247           68.0  \n",
       "248           62.0  \n",
       "249           53.0  \n",
       "\n",
       "[250 rows x 12 columns]"
      ]
     },
     "execution_count": 53,
     "metadata": {},
     "output_type": "execute_result"
    }
   ],
   "source": [
    "df"
   ]
  },
  {
   "cell_type": "code",
   "execution_count": 54,
   "id": "26a66290",
   "metadata": {},
   "outputs": [
    {
     "data": {
      "text/html": [
       "<div>\n",
       "<style scoped>\n",
       "    .dataframe tbody tr th:only-of-type {\n",
       "        vertical-align: middle;\n",
       "    }\n",
       "\n",
       "    .dataframe tbody tr th {\n",
       "        vertical-align: top;\n",
       "    }\n",
       "\n",
       "    .dataframe thead th {\n",
       "        text-align: right;\n",
       "    }\n",
       "</style>\n",
       "<table border=\"1\" class=\"dataframe\">\n",
       "  <thead>\n",
       "    <tr style=\"text-align: right;\">\n",
       "      <th></th>\n",
       "      <th>Roll No.</th>\n",
       "      <th>Name</th>\n",
       "      <th>Gender</th>\n",
       "      <th>Address</th>\n",
       "      <th>Suburb</th>\n",
       "      <th>Fee Status</th>\n",
       "      <th>Height</th>\n",
       "      <th>Weight</th>\n",
       "      <th>Family Income</th>\n",
       "      <th>Math Score</th>\n",
       "      <th>Science Score</th>\n",
       "      <th>English Score</th>\n",
       "    </tr>\n",
       "  </thead>\n",
       "  <tbody>\n",
       "    <tr>\n",
       "      <th>0</th>\n",
       "      <td>False</td>\n",
       "      <td>False</td>\n",
       "      <td>False</td>\n",
       "      <td>False</td>\n",
       "      <td>False</td>\n",
       "      <td>False</td>\n",
       "      <td>False</td>\n",
       "      <td>False</td>\n",
       "      <td>False</td>\n",
       "      <td>False</td>\n",
       "      <td>False</td>\n",
       "      <td>False</td>\n",
       "    </tr>\n",
       "    <tr>\n",
       "      <th>1</th>\n",
       "      <td>False</td>\n",
       "      <td>False</td>\n",
       "      <td>False</td>\n",
       "      <td>False</td>\n",
       "      <td>False</td>\n",
       "      <td>False</td>\n",
       "      <td>False</td>\n",
       "      <td>False</td>\n",
       "      <td>False</td>\n",
       "      <td>False</td>\n",
       "      <td>False</td>\n",
       "      <td>False</td>\n",
       "    </tr>\n",
       "    <tr>\n",
       "      <th>2</th>\n",
       "      <td>False</td>\n",
       "      <td>False</td>\n",
       "      <td>False</td>\n",
       "      <td>False</td>\n",
       "      <td>False</td>\n",
       "      <td>True</td>\n",
       "      <td>False</td>\n",
       "      <td>False</td>\n",
       "      <td>False</td>\n",
       "      <td>False</td>\n",
       "      <td>False</td>\n",
       "      <td>False</td>\n",
       "    </tr>\n",
       "    <tr>\n",
       "      <th>3</th>\n",
       "      <td>False</td>\n",
       "      <td>False</td>\n",
       "      <td>False</td>\n",
       "      <td>False</td>\n",
       "      <td>False</td>\n",
       "      <td>False</td>\n",
       "      <td>False</td>\n",
       "      <td>False</td>\n",
       "      <td>False</td>\n",
       "      <td>False</td>\n",
       "      <td>False</td>\n",
       "      <td>False</td>\n",
       "    </tr>\n",
       "    <tr>\n",
       "      <th>4</th>\n",
       "      <td>False</td>\n",
       "      <td>False</td>\n",
       "      <td>False</td>\n",
       "      <td>False</td>\n",
       "      <td>False</td>\n",
       "      <td>False</td>\n",
       "      <td>False</td>\n",
       "      <td>False</td>\n",
       "      <td>False</td>\n",
       "      <td>False</td>\n",
       "      <td>False</td>\n",
       "      <td>False</td>\n",
       "    </tr>\n",
       "    <tr>\n",
       "      <th>...</th>\n",
       "      <td>...</td>\n",
       "      <td>...</td>\n",
       "      <td>...</td>\n",
       "      <td>...</td>\n",
       "      <td>...</td>\n",
       "      <td>...</td>\n",
       "      <td>...</td>\n",
       "      <td>...</td>\n",
       "      <td>...</td>\n",
       "      <td>...</td>\n",
       "      <td>...</td>\n",
       "      <td>...</td>\n",
       "    </tr>\n",
       "    <tr>\n",
       "      <th>245</th>\n",
       "      <td>False</td>\n",
       "      <td>False</td>\n",
       "      <td>False</td>\n",
       "      <td>False</td>\n",
       "      <td>False</td>\n",
       "      <td>False</td>\n",
       "      <td>False</td>\n",
       "      <td>False</td>\n",
       "      <td>False</td>\n",
       "      <td>False</td>\n",
       "      <td>False</td>\n",
       "      <td>False</td>\n",
       "    </tr>\n",
       "    <tr>\n",
       "      <th>246</th>\n",
       "      <td>False</td>\n",
       "      <td>False</td>\n",
       "      <td>False</td>\n",
       "      <td>False</td>\n",
       "      <td>False</td>\n",
       "      <td>False</td>\n",
       "      <td>False</td>\n",
       "      <td>False</td>\n",
       "      <td>False</td>\n",
       "      <td>False</td>\n",
       "      <td>False</td>\n",
       "      <td>False</td>\n",
       "    </tr>\n",
       "    <tr>\n",
       "      <th>247</th>\n",
       "      <td>False</td>\n",
       "      <td>False</td>\n",
       "      <td>False</td>\n",
       "      <td>False</td>\n",
       "      <td>False</td>\n",
       "      <td>False</td>\n",
       "      <td>False</td>\n",
       "      <td>False</td>\n",
       "      <td>False</td>\n",
       "      <td>True</td>\n",
       "      <td>False</td>\n",
       "      <td>False</td>\n",
       "    </tr>\n",
       "    <tr>\n",
       "      <th>248</th>\n",
       "      <td>False</td>\n",
       "      <td>False</td>\n",
       "      <td>False</td>\n",
       "      <td>False</td>\n",
       "      <td>False</td>\n",
       "      <td>False</td>\n",
       "      <td>False</td>\n",
       "      <td>False</td>\n",
       "      <td>False</td>\n",
       "      <td>False</td>\n",
       "      <td>False</td>\n",
       "      <td>False</td>\n",
       "    </tr>\n",
       "    <tr>\n",
       "      <th>249</th>\n",
       "      <td>False</td>\n",
       "      <td>False</td>\n",
       "      <td>False</td>\n",
       "      <td>False</td>\n",
       "      <td>False</td>\n",
       "      <td>False</td>\n",
       "      <td>False</td>\n",
       "      <td>False</td>\n",
       "      <td>False</td>\n",
       "      <td>False</td>\n",
       "      <td>False</td>\n",
       "      <td>False</td>\n",
       "    </tr>\n",
       "  </tbody>\n",
       "</table>\n",
       "<p>250 rows × 12 columns</p>\n",
       "</div>"
      ],
      "text/plain": [
       "     Roll No.   Name  Gender  Address  Suburb  Fee Status  Height  Weight  \\\n",
       "0       False  False   False    False   False       False   False   False   \n",
       "1       False  False   False    False   False       False   False   False   \n",
       "2       False  False   False    False   False        True   False   False   \n",
       "3       False  False   False    False   False       False   False   False   \n",
       "4       False  False   False    False   False       False   False   False   \n",
       "..        ...    ...     ...      ...     ...         ...     ...     ...   \n",
       "245     False  False   False    False   False       False   False   False   \n",
       "246     False  False   False    False   False       False   False   False   \n",
       "247     False  False   False    False   False       False   False   False   \n",
       "248     False  False   False    False   False       False   False   False   \n",
       "249     False  False   False    False   False       False   False   False   \n",
       "\n",
       "     Family Income  Math Score  Science Score  English Score  \n",
       "0            False       False          False          False  \n",
       "1            False       False          False          False  \n",
       "2            False       False          False          False  \n",
       "3            False       False          False          False  \n",
       "4            False       False          False          False  \n",
       "..             ...         ...            ...            ...  \n",
       "245          False       False          False          False  \n",
       "246          False       False          False          False  \n",
       "247          False        True          False          False  \n",
       "248          False       False          False          False  \n",
       "249          False       False          False          False  \n",
       "\n",
       "[250 rows x 12 columns]"
      ]
     },
     "execution_count": 54,
     "metadata": {},
     "output_type": "execute_result"
    }
   ],
   "source": [
    "df.isna()"
   ]
  },
  {
   "cell_type": "code",
   "execution_count": 55,
   "id": "e430e84e",
   "metadata": {},
   "outputs": [
    {
     "data": {
      "text/plain": [
       "Roll No.          0\n",
       "Name              0\n",
       "Gender            0\n",
       "Address           0\n",
       "Suburb            0\n",
       "Fee Status       28\n",
       "Height            0\n",
       "Weight            0\n",
       "Family Income     0\n",
       "Math Score       13\n",
       "Science Score    11\n",
       "English Score     7\n",
       "dtype: int64"
      ]
     },
     "execution_count": 55,
     "metadata": {},
     "output_type": "execute_result"
    }
   ],
   "source": [
    "df.isnull().sum()"
   ]
  },
  {
   "cell_type": "code",
   "execution_count": 56,
   "id": "6d81337c",
   "metadata": {},
   "outputs": [
    {
     "data": {
      "text/plain": [
       "59"
      ]
     },
     "execution_count": 56,
     "metadata": {},
     "output_type": "execute_result"
    }
   ],
   "source": [
    "df.isnull().sum().sum()"
   ]
  },
  {
   "cell_type": "code",
   "execution_count": 57,
   "id": "960b0824",
   "metadata": {},
   "outputs": [],
   "source": [
    "df['Math Score'].fillna(0, inplace=True)"
   ]
  },
  {
   "cell_type": "code",
   "execution_count": 58,
   "id": "4dd1f4a1",
   "metadata": {},
   "outputs": [],
   "source": [
    "df['Science Score'].fillna(0, inplace=True)"
   ]
  },
  {
   "cell_type": "code",
   "execution_count": 59,
   "id": "b46df638",
   "metadata": {},
   "outputs": [],
   "source": [
    "df['English Score'].fillna(0, inplace=True)"
   ]
  },
  {
   "cell_type": "code",
   "execution_count": 60,
   "id": "5d6d781b",
   "metadata": {},
   "outputs": [
    {
     "data": {
      "text/plain": [
       "Roll No.          0\n",
       "Name              0\n",
       "Gender            0\n",
       "Address           0\n",
       "Suburb            0\n",
       "Fee Status       28\n",
       "Height            0\n",
       "Weight            0\n",
       "Family Income     0\n",
       "Math Score        0\n",
       "Science Score     0\n",
       "English Score     0\n",
       "dtype: int64"
      ]
     },
     "execution_count": 60,
     "metadata": {},
     "output_type": "execute_result"
    }
   ],
   "source": [
    "df.isnull().sum()"
   ]
  },
  {
   "cell_type": "code",
   "execution_count": 63,
   "id": "585c7422",
   "metadata": {},
   "outputs": [
    {
     "data": {
      "image/png": "[encoded data removed]",
      "text/plain": [
       "<Figure size 432x288 with 1 Axes>"
      ]
     },
     "metadata": {
      "needs_background": "light"
     },
     "output_type": "display_data"
    }
   ],
   "source": [
    "# Outliers Detection using Boxplot\n",
    "boxplot_score = df.boxplot(column=['Math Score', 'Science Score', 'English Score'])"
   ]
  },
  {
   "cell_type": "code",
   "execution_count": 64,
   "id": "66e50fb7",
   "metadata": {},
   "outputs": [
    {
     "data": {
      "image/png": "[encoded data removed]",
      "text/plain": [
       "<Figure size 432x288 with 1 Axes>"
      ]
     },
     "metadata": {
      "needs_background": "light"
     },
     "output_type": "display_data"
    }
   ],
   "source": [
    "boxplot_hw = df.boxplot(column=['Height', 'Weight'])"
   ]
  },
  {
   "cell_type": "code",
   "execution_count": 66,
   "id": "49b747ec",
   "metadata": {},
   "outputs": [
    {
     "data": {
      "image/png": "[encoded data removed]",
      "text/plain": [
       "<Figure size 432x288 with 1 Axes>"
      ]
     },
     "metadata": {
      "needs_background": "light"
     },
     "output_type": "display_data"
    }
   ],
   "source": [
    "boxplot_income = df.boxplot(column=['Family Income'])"
   ]
  },
  {
   "cell_type": "code",
   "execution_count": 25,
   "id": "49033981",
   "metadata": {},
   "outputs": [
    {
     "data": {
      "image/png": "[encoded data removed]",
      "text/plain": [
       "<Figure size 1152x576 with 1 Axes>"
      ]
     },
     "metadata": {
      "needs_background": "light"
     },
     "output_type": "display_data"
    }
   ],
   "source": [
    "# Outlier Detection using Scatter Plot\n",
    "import matplotlib.pyplot as plt\n",
    "fig, mx = plt.subplots(figsize=(16,8))\n",
    "colors = {'M':'blue', 'F':'red'}\n",
    "mx.scatter(df['Roll No.'], df['Math Score'], c=df['Gender'].map(colors))\n",
    "mx.set_xlabel('Math Score')\n",
    "mx.set_ylabel('Roll Number')\n",
    "plt.show()"
   ]
  },
  {
   "cell_type": "code",
   "execution_count": 26,
   "id": "b7885965",
   "metadata": {},
   "outputs": [
    {
     "data": {
      "image/png": "[encoded data removed]",
      "text/plain": [
       "<Figure size 1152x576 with 1 Axes>"
      ]
     },
     "metadata": {
      "needs_background": "light"
     },
     "output_type": "display_data"
    }
   ],
   "source": [
    "fig, sx = plt.subplots(figsize=(16,8))\n",
    "colors = {'M':'blue', 'F':'red'}\n",
    "sx.scatter(df['Roll No.'], df['Science Score'], c=df['Gender'].map(colors))\n",
    "sx.set_xlabel('Science Score')\n",
    "sx.set_ylabel('Roll Number')\n",
    "plt.show()"
   ]
  },
  {
   "cell_type": "code",
   "execution_count": 27,
   "id": "7bb69318",
   "metadata": {},
   "outputs": [
    {
     "data": {
      "image/png": "[encoded data removed]",
      "text/plain": [
       "<Figure size 1152x576 with 1 Axes>"
      ]
     },
     "metadata": {
      "needs_background": "light"
     },
     "output_type": "display_data"
    }
   ],
   "source": [
    "fig, ex = plt.subplots(figsize=(16,8))\n",
    "colors = {'M':'blue', 'F':'red'}\n",
    "ex.scatter(df['Roll No.'], df['English Score'], c=df['Gender'].map(colors))\n",
    "ex.set_xlabel('English Score')\n",
    "ex.set_ylabel('Roll Number')\n",
    "plt.show()"
   ]
  },
  {
   "cell_type": "code",
   "execution_count": 67,
   "id": "567f53ec",
   "metadata": {},
   "outputs": [
    {
     "data": {
      "image/png": "[encoded data removed]",
      "text/plain": [
       "<Figure size 1152x576 with 1 Axes>"
      ]
     },
     "metadata": {
      "needs_background": "light"
     },
     "output_type": "display_data"
    }
   ],
   "source": [
    "fig, sx = plt.subplots(figsize=(16,8))\n",
    "sx.scatter(df['Roll No.'], df['Family Income'])\n",
    "sx.set_xlabel('Family Income')\n",
    "sx.set_ylabel('Roll Number')\n",
    "plt.show()"
   ]
  },
  {
   "cell_type": "code",
   "execution_count": 68,
   "id": "9d9fe5d2",
   "metadata": {},
   "outputs": [
    {
     "name": "stdout",
     "output_type": "stream",
     "text": [
      "     Math Score  Science Score  English Score\n",
      "0      0.493363       0.356907       0.487319\n",
      "1      0.358761       1.175084       1.210039\n",
      "2      1.300978       1.402355       1.468153\n",
      "3      0.628325       0.324907       1.061365\n",
      "4      0.672833       0.629632       0.538942\n",
      "..          ...            ...            ...\n",
      "245    1.076641       0.538724       0.332451\n",
      "246    1.256111       0.538724       0.487319\n",
      "247    2.737097       0.265998       0.177583\n",
      "248    0.179291       0.006727       0.132154\n",
      "249    0.313893       0.188544       0.596760\n",
      "\n",
      "[250 rows x 3 columns]\n"
     ]
    }
   ],
   "source": [
    "# Detection of Ouliers using Z-Score\n",
    "from scipy import stats\n",
    "mz = np.abs(stats.zscore(df[['Math Score', 'Science Score', 'English Score']]))\n",
    "print(mz)"
   ]
  },
  {
   "cell_type": "code",
   "execution_count": 69,
   "id": "938e107a",
   "metadata": {
    "scrolled": true
   },
   "outputs": [
    {
     "data": {
      "text/html": [
       "<div>\n",
       "<style scoped>\n",
       "    .dataframe tbody tr th:only-of-type {\n",
       "        vertical-align: middle;\n",
       "    }\n",
       "\n",
       "    .dataframe tbody tr th {\n",
       "        vertical-align: top;\n",
       "    }\n",
       "\n",
       "    .dataframe thead th {\n",
       "        text-align: right;\n",
       "    }\n",
       "</style>\n",
       "<table border=\"1\" class=\"dataframe\">\n",
       "  <thead>\n",
       "    <tr style=\"text-align: right;\">\n",
       "      <th></th>\n",
       "      <th>Roll No.</th>\n",
       "      <th>Height</th>\n",
       "      <th>Weight</th>\n",
       "      <th>Family Income</th>\n",
       "      <th>Math Score</th>\n",
       "      <th>Science Score</th>\n",
       "      <th>English Score</th>\n",
       "    </tr>\n",
       "  </thead>\n",
       "  <tbody>\n",
       "    <tr>\n",
       "      <th>count</th>\n",
       "      <td>250.000000</td>\n",
       "      <td>250.000000</td>\n",
       "      <td>250.000000</td>\n",
       "      <td>250.000000</td>\n",
       "      <td>250.000000</td>\n",
       "      <td>250.000000</td>\n",
       "      <td>250.000000</td>\n",
       "    </tr>\n",
       "    <tr>\n",
       "      <th>mean</th>\n",
       "      <td>125.500000</td>\n",
       "      <td>67.991650</td>\n",
       "      <td>127.286554</td>\n",
       "      <td>189602.740000</td>\n",
       "      <td>61.004000</td>\n",
       "      <td>64.148000</td>\n",
       "      <td>64.560000</td>\n",
       "    </tr>\n",
       "    <tr>\n",
       "      <th>std</th>\n",
       "      <td>72.312977</td>\n",
       "      <td>1.923236</td>\n",
       "      <td>11.931546</td>\n",
       "      <td>102901.700762</td>\n",
       "      <td>22.332554</td>\n",
       "      <td>22.044271</td>\n",
       "      <td>19.410137</td>\n",
       "    </tr>\n",
       "    <tr>\n",
       "      <th>min</th>\n",
       "      <td>1.000000</td>\n",
       "      <td>63.425770</td>\n",
       "      <td>97.901910</td>\n",
       "      <td>21175.000000</td>\n",
       "      <td>0.000000</td>\n",
       "      <td>0.000000</td>\n",
       "      <td>0.000000</td>\n",
       "    </tr>\n",
       "    <tr>\n",
       "      <th>25%</th>\n",
       "      <td>63.250000</td>\n",
       "      <td>66.586337</td>\n",
       "      <td>119.324050</td>\n",
       "      <td>110425.750000</td>\n",
       "      <td>53.000000</td>\n",
       "      <td>55.000000</td>\n",
       "      <td>54.000000</td>\n",
       "    </tr>\n",
       "    <tr>\n",
       "      <th>50%</th>\n",
       "      <td>125.500000</td>\n",
       "      <td>67.991660</td>\n",
       "      <td>127.872700</td>\n",
       "      <td>177610.000000</td>\n",
       "      <td>65.000000</td>\n",
       "      <td>68.000000</td>\n",
       "      <td>68.000000</td>\n",
       "    </tr>\n",
       "    <tr>\n",
       "      <th>75%</th>\n",
       "      <td>187.750000</td>\n",
       "      <td>69.329055</td>\n",
       "      <td>136.157100</td>\n",
       "      <td>239119.000000</td>\n",
       "      <td>75.750000</td>\n",
       "      <td>79.000000</td>\n",
       "      <td>76.750000</td>\n",
       "    </tr>\n",
       "    <tr>\n",
       "      <th>max</th>\n",
       "      <td>250.000000</td>\n",
       "      <td>73.901070</td>\n",
       "      <td>158.956200</td>\n",
       "      <td>537222.000000</td>\n",
       "      <td>100.000000</td>\n",
       "      <td>100.000000</td>\n",
       "      <td>100.000000</td>\n",
       "    </tr>\n",
       "  </tbody>\n",
       "</table>\n",
       "</div>"
      ],
      "text/plain": [
       "         Roll No.      Height      Weight  Family Income  Math Score  \\\n",
       "count  250.000000  250.000000  250.000000     250.000000  250.000000   \n",
       "mean   125.500000   67.991650  127.286554  189602.740000   61.004000   \n",
       "std     72.312977    1.923236   11.931546  102901.700762   22.332554   \n",
       "min      1.000000   63.425770   97.901910   21175.000000    0.000000   \n",
       "25%     63.250000   66.586337  119.324050  110425.750000   53.000000   \n",
       "50%    125.500000   67.991660  127.872700  177610.000000   65.000000   \n",
       "75%    187.750000   69.329055  136.157100  239119.000000   75.750000   \n",
       "max    250.000000   73.901070  158.956200  537222.000000  100.000000   \n",
       "\n",
       "       Science Score  English Score  \n",
       "count     250.000000     250.000000  \n",
       "mean       64.148000      64.560000  \n",
       "std        22.044271      19.410137  \n",
       "min         0.000000       0.000000  \n",
       "25%        55.000000      54.000000  \n",
       "50%        68.000000      68.000000  \n",
       "75%        79.000000      76.750000  \n",
       "max       100.000000     100.000000  "
      ]
     },
     "execution_count": 69,
     "metadata": {},
     "output_type": "execute_result"
    }
   ],
   "source": [
    "df.describe()"
   ]
  },
  {
   "cell_type": "code",
   "execution_count": 73,
   "id": "2803e32d",
   "metadata": {},
   "outputs": [
    {
     "name": "stdout",
     "output_type": "stream",
     "text": [
      "Q3: 239119.0\n",
      "Q1: 110425.75\n"
     ]
    }
   ],
   "source": [
    "q3, q1 = np.percentile(df['Family Income'], [75, 25])\n",
    "print(\"Q3:\", q3)\n",
    "print(\"Q1:\", q1)"
   ]
  },
  {
   "cell_type": "code",
   "execution_count": 76,
   "id": "49d2b5e2",
   "metadata": {},
   "outputs": [
    {
     "name": "stdout",
     "output_type": "stream",
     "text": [
      "128693.25\n"
     ]
    }
   ],
   "source": [
    "iqr = stats.iqr(df['Family Income'])\n",
    "print(iqr)"
   ]
  },
  {
   "cell_type": "code",
   "execution_count": 91,
   "id": "394f7a94",
   "metadata": {},
   "outputs": [
    {
     "name": "stdout",
     "output_type": "stream",
     "text": [
      "-82614.125 432158.875\n"
     ]
    }
   ],
   "source": [
    "cut_off = iqr * 1.5\n",
    "lower_fi, upper_fi = q1 - cut_off, q3 + cut_off\n",
    "print(lower_fi, upper_fi)"
   ]
  },
  {
   "cell_type": "code",
   "execution_count": 92,
   "id": "442c44f0",
   "metadata": {},
   "outputs": [
    {
     "name": "stdout",
     "output_type": "stream",
     "text": [
      "[444554, 432824, 465326, 445382, 479296, 456736, 537222, 513100, 447488]\n"
     ]
    }
   ],
   "source": [
    "outliers = [x for x in df['Family Income'] if x < lower_fi or x > upper_fi]\n",
    "print(outliers)"
   ]
  },
  {
   "cell_type": "code",
   "execution_count": 93,
   "id": "836fb40c",
   "metadata": {},
   "outputs": [
    {
     "name": "stdout",
     "output_type": "stream",
     "text": [
      "[226802, 89814, 336951, 160323, 103497, 198693, 227026, 104626, 369667, 104996, 184454, 212465, 82091, 299831, 279724, 346189, 128354, 60548, 85019, 107914, 238588, 132015, 220931, 205947, 236427, 134446, 99516, 109282, 106444, 186651, 188274, 258120, 43311, 191846, 403681, 248446, 269430, 257509, 136384, 120277, 103634, 138371, 242832, 290208, 186272, 201062, 131916, 54440, 280215, 214399, 54164, 219446, 110677, 145985, 382078, 170721, 269705, 101135, 118429, 31208, 281384, 171807, 109912, 105460, 170338, 102606, 323887, 175622, 229636, 388946, 269034, 165361, 75012, 174379, 312477, 72055, 67001, 213734, 83141, 223881, 113752, 170482, 244689, 160631, 228724, 38434, 292946, 77443, 176410, 98984, 198751, 235218, 164877, 272087, 169699, 189762, 202191, 212261, 301568, 155233, 75826, 201520, 154236, 289227, 217439, 179020, 149624, 337266, 30796, 103541, 206721, 96773, 200967, 180019, 179866, 198770, 219256, 248730, 110732, 181020, 183791, 42972, 134813, 115438, 239296, 428420, 247846, 334105, 100793, 244478, 142921, 182863, 171128, 145402, 306309, 83822, 262118, 155972, 214503, 159303, 174995, 26669, 177727, 124771, 216604, 221561, 114564, 315476, 67874, 126110, 102264, 113732, 93225, 43064, 136921, 388885, 142249, 56841, 156493, 159021, 190910, 41879, 137249, 236157, 189759, 239877, 21175, 67229, 236391, 325596, 83411, 154227, 248010, 198613, 321529, 168524, 203079, 284652, 201368, 59840, 52753, 199266, 196385, 163205, 411047, 48574, 209440, 56964, 299197, 240628, 355313, 132267, 174861, 142443, 26716, 185588, 175029, 34848, 411273, 143437, 357145, 236861, 53355, 29106, 213274, 22463, 180497, 37306, 137814, 220915, 42251, 162312, 77698, 282951, 311259, 65479, 277256, 312088, 169719, 270276, 172744, 96869, 237943, 119751, 236861, 201092, 147215, 152373, 227968, 362617, 103435, 281412, 105239, 230165, 177493, 104443, 110342, 143385, 107189, 212944, 138634]\n"
     ]
    }
   ],
   "source": [
    "outliers_removed = [x for x in df['Family Income'] if x > lower_fi and x < upper_fi]\n",
    "print(outliers_removed)"
   ]
  },
  {
   "cell_type": "code",
   "execution_count": 95,
   "id": "d803dda1",
   "metadata": {},
   "outputs": [
    {
     "name": "stdout",
     "output_type": "stream",
     "text": [
      "New Shape: (250, 12)\n"
     ]
    }
   ],
   "source": [
    "ub = np.where(df['Family Income']>lower_fi)\n",
    "lb = np.where(df['Family Income']<upper_fi)\n",
    "df['Family Income'].drop(ub[0], inplace = True)\n",
    "df['Family Income'].drop(lb[0], inplace = True)\n",
    "print(\"New Shape:\", df.shape)"
   ]
  },
  {
   "cell_type": "code",
   "execution_count": 96,
   "id": "5216f8e6",
   "metadata": {},
   "outputs": [
    {
     "data": {
      "image/png": "[encoded data removed]",
      "text/plain": [
       "<Figure size 1152x576 with 1 Axes>"
      ]
     },
     "metadata": {
      "needs_background": "light"
     },
     "output_type": "display_data"
    }
   ],
   "source": [
    "fig, ax = plt.subplots(figsize =(16, 8))\n",
    "ax.hist(df['Family Income'])\n",
    "plt.show()"
   ]
  },
  {
   "cell_type": "code",
   "execution_count": null,
   "id": "faedc1a9",
   "metadata": {},
   "outputs": [],
   "source": []
  }
 ],
 "metadata": {
  "kernelspec": {
   "display_name": "Python 3 (ipykernel)",
   "language": "python",
   "name": "python3"
  },
  "language_info": {
   "codemirror_mode": {
    "name": "ipython",
    "version": 3
   },
   "file_extension": ".py",
   "mimetype": "text/x-python",
   "name": "python",
   "nbconvert_exporter": "python",
   "pygments_lexer": "ipython3",
   "version": "3.8.10"
  }
 },
 "nbformat": 4,
 "nbformat_minor": 5
}
