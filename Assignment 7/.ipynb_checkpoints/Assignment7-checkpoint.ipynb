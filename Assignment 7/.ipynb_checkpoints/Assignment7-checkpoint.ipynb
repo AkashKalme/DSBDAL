{
 "cells": [
  {
   "cell_type": "code",
   "execution_count": 27,
   "id": "393c5886",
   "metadata": {},
   "outputs": [
    {
     "name": "stderr",
     "output_type": "stream",
     "text": [
      "[nltk_data] Downloading package averaged_perceptron_tagger to\n",
      "[nltk_data]     /home/TE/nltk_data...\n",
      "[nltk_data]   Unzipping taggers/averaged_perceptron_tagger.zip.\n"
     ]
    },
    {
     "data": {
      "text/plain": [
       "True"
      ]
     },
     "execution_count": 27,
     "metadata": {},
     "output_type": "execute_result"
    }
   ],
   "source": [
    "# Downloaded Packages\n",
    "# nltk.download('punkt')\n",
    "# nltk.download('stopwords')\n",
    "# nltk.download('averaged_perceptron_tagger')"
   ]
  },
  {
   "cell_type": "code",
   "execution_count": 21,
   "id": "919abb6a",
   "metadata": {},
   "outputs": [],
   "source": [
    "# Import 'nltk'\n",
    "import nltk\n",
    "from nltk.corpus import stopwords\n",
    "from nltk.tokenize import word_tokenize, sent_tokenize\n",
    "from nltk.stem import PorterStemmer"
   ]
  },
  {
   "cell_type": "code",
   "execution_count": 14,
   "id": "a778fed3",
   "metadata": {},
   "outputs": [],
   "source": [
    "text = '''Data science is an interdisciplinary academic field that uses statistics, scientific computing, \n",
    "scientific methods, processes, algorithms and systems to extract or extrapolate knowledge and insights from noisy,\n",
    "structured, and unstructured data. Data science also integrates domain knowledge from the underlying application\n",
    "domain (e.g., natural sciences, information technology, and medicine). Data science is multifaceted and can be\n",
    "described as a science, a research paradigm, a research method, a discipline, a workflow, and a profession.'''"
   ]
  },
  {
   "cell_type": "markdown",
   "id": "34744299",
   "metadata": {},
   "source": [
    "## Tokenization"
   ]
  },
  {
   "cell_type": "code",
   "execution_count": 15,
   "id": "b9e9d323",
   "metadata": {},
   "outputs": [],
   "source": [
    "tokens = nltk.word_tokenize(text)"
   ]
  },
  {
   "cell_type": "code",
   "execution_count": 16,
   "id": "bb8e1686",
   "metadata": {
    "scrolled": false
   },
   "outputs": [
    {
     "data": {
      "text/plain": [
       "['Data',\n",
       " 'science',\n",
       " 'is',\n",
       " 'an',\n",
       " 'interdisciplinary',\n",
       " 'academic',\n",
       " 'field',\n",
       " 'that',\n",
       " 'uses',\n",
       " 'statistics',\n",
       " ',',\n",
       " 'scientific',\n",
       " 'computing',\n",
       " ',',\n",
       " 'scientific',\n",
       " 'methods',\n",
       " ',',\n",
       " 'processes',\n",
       " ',',\n",
       " 'algorithms',\n",
       " 'and',\n",
       " 'systems',\n",
       " 'to',\n",
       " 'extract',\n",
       " 'or',\n",
       " 'extrapolate',\n",
       " 'knowledge',\n",
       " 'and',\n",
       " 'insights',\n",
       " 'from',\n",
       " 'noisy',\n",
       " ',',\n",
       " 'structured',\n",
       " ',',\n",
       " 'and',\n",
       " 'unstructured',\n",
       " 'data',\n",
       " '.',\n",
       " 'Data',\n",
       " 'science',\n",
       " 'also',\n",
       " 'integrates',\n",
       " 'domain',\n",
       " 'knowledge',\n",
       " 'from',\n",
       " 'the',\n",
       " 'underlying',\n",
       " 'application',\n",
       " 'domain',\n",
       " '(',\n",
       " 'e.g.',\n",
       " ',',\n",
       " 'natural',\n",
       " 'sciences',\n",
       " ',',\n",
       " 'information',\n",
       " 'technology',\n",
       " ',',\n",
       " 'and',\n",
       " 'medicine',\n",
       " ')',\n",
       " '.',\n",
       " 'Data',\n",
       " 'science',\n",
       " 'is',\n",
       " 'multifaceted',\n",
       " 'and',\n",
       " 'can',\n",
       " 'be',\n",
       " 'described',\n",
       " 'as',\n",
       " 'a',\n",
       " 'science',\n",
       " ',',\n",
       " 'a',\n",
       " 'research',\n",
       " 'paradigm',\n",
       " ',',\n",
       " 'a',\n",
       " 'research',\n",
       " 'method',\n",
       " ',',\n",
       " 'a',\n",
       " 'discipline',\n",
       " ',',\n",
       " 'a',\n",
       " 'workflow',\n",
       " ',',\n",
       " 'and',\n",
       " 'a',\n",
       " 'profession',\n",
       " '.']"
      ]
     },
     "execution_count": 16,
     "metadata": {},
     "output_type": "execute_result"
    }
   ],
   "source": [
    "tokens"
   ]
  },
  {
   "cell_type": "markdown",
   "id": "cfbcb2b9",
   "metadata": {},
   "source": [
    "## POS Tagging\n",
    "\n",
    "#### Abbrevation Meaning\n",
    "JJ    -    adjective – ‘big’ \\\n",
    "JJR   -    adjective, comparative – ‘bigger’ \\\n",
    "JJS   -    adjective, superlative – ‘biggest’ \\\n",
    "NN    -    noun, singular ‘- desk’ \\\n",
    "NNS   -    noun plural – ‘desks’ \\\n",
    "NNP   -    proper noun, singular – ‘Harrison’ \\\n",
    "NNPS  -    proper noun, plural – ‘Americans’ \\\n",
    "RB    -    adverb – very, silently, \\\n",
    "RBR   -    adverb, comparative – better \\\n",
    "RBS   -    adverb, superlative – best \\\n",
    "RP    -    particle – give up \\\n",
    "VB    -    verb, base form – take \\\n",
    "VBD   -    verb, past tense – took \\\n",
    "VBG   -    verb, gerund/present participle – taking \\\n",
    "VBN   -    verb, past participle – taken \\\n",
    "VBP   -    verb, sing. present, non-3d – take \\\n",
    "VBZ   -    verb, 3rd person sing. present – takes "
   ]
  },
  {
   "cell_type": "code",
   "execution_count": 32,
   "id": "0173dcb1",
   "metadata": {},
   "outputs": [
    {
     "name": "stdout",
     "output_type": "stream",
     "text": [
      "{'y', 'won', 'about', 'there', 'other', 'all', 'shouldn', 'with', 'been', 'where', 'again', 'very', 'mustn', \"don't\", 'as', 'himself', 'this', \"that'll\", 'just', 'have', 'on', 'weren', 'because', 'when', 'your', 'my', 'to', \"mightn't\", 'her', 's', 'they', 'a', 'above', 'hadn', 'it', 'will', 'he', 'him', 'not', 'off', 'who', 'don', 'doesn', 'you', 'then', 'do', 'didn', \"needn't\", 've', 'if', 'more', 'couldn', 'such', \"aren't\", \"hasn't\", 'needn', 'having', 'theirs', 'did', 'an', 'isn', 'both', 'by', 'these', 'same', 'what', 'be', 'herself', 'am', 'aren', \"doesn't\", 'for', 'how', 'does', 'up', \"you're\", \"won't\", \"wasn't\", 'were', \"wouldn't\", 'i', 'before', 'down', 'no', 'yourselves', 'in', 'shan', 'those', 'are', 'll', 'why', 'whom', \"shouldn't\", 'myself', 'which', \"haven't\", \"you'll\", 't', \"mustn't\", 'should', \"shan't\", 'yours', 'wouldn', \"you'd\", 'once', 'themselves', 'we', 'at', 'has', 'o', 'hasn', 'into', 'here', 'below', 'through', \"hadn't\", 'only', 'now', 'haven', 'until', 'm', 'during', 'me', 'between', 'under', 'its', 'most', 'mightn', \"it's\", 're', \"weren't\", 'our', \"she's\", 'so', 'had', 'few', 'while', \"couldn't\", 'any', 'and', \"you've\", 'from', 'ma', 'but', 'his', 'them', 'doing', 'against', 'yourself', 'was', 'each', 'can', 'ourselves', 'that', 'over', 'or', 'their', \"should've\", 'too', 'ain', 'further', 'ours', 'is', 'd', 'nor', 'hers', 'of', 'out', 'itself', 'the', 'wasn', 'being', 'after', 'own', 'she', 'than', \"didn't\", \"isn't\", 'some'}\n"
     ]
    }
   ],
   "source": [
    "stop_words = set(stopwords.words('english'))\n",
    "print(stop_words)"
   ]
  },
  {
   "cell_type": "code",
   "execution_count": 33,
   "id": "5972a4ee",
   "metadata": {
    "scrolled": true
   },
   "outputs": [
    {
     "name": "stdout",
     "output_type": "stream",
     "text": [
      "[('Data', 'NNP'), ('science', 'NN'), ('interdisciplinary', 'JJ'), ('academic', 'JJ'), ('field', 'NN'), ('uses', 'VBZ'), ('statistics', 'NNS'), (',', ','), ('scientific', 'JJ'), ('computing', 'NN'), (',', ','), ('scientific', 'JJ'), ('methods', 'NNS'), (',', ','), ('processes', 'NNS'), (',', ','), ('algorithms', 'JJ'), ('systems', 'NNS'), ('extract', 'JJ'), ('extrapolate', 'JJ'), ('knowledge', 'NN'), ('insights', 'NNS'), ('noisy', 'RB'), (',', ','), ('structured', 'VBD'), (',', ','), ('unstructured', 'JJ'), ('data', 'NNS'), ('.', '.'), ('Data', 'NNP'), ('science', 'NN'), ('also', 'RB'), ('integrates', 'VBZ'), ('domain', 'NN'), ('knowledge', 'NN'), ('underlying', 'VBG'), ('application', 'NN'), ('domain', 'NN'), ('(', '('), ('e.g.', 'NN'), (',', ','), ('natural', 'JJ'), ('sciences', 'NNS'), (',', ','), ('information', 'NN'), ('technology', 'NN'), (',', ','), ('medicine', 'NN'), (')', ')'), ('.', '.'), ('Data', 'NNP'), ('science', 'NN'), ('multifaceted', 'VBD'), ('described', 'JJ'), ('science', 'NN'), (',', ','), ('research', 'NN'), ('paradigm', 'NN'), (',', ','), ('research', 'NN'), ('method', 'NN'), (',', ','), ('discipline', 'NN'), (',', ','), ('workflow', 'NN'), (',', ','), ('profession', 'NN'), ('.', '.')]\n"
     ]
    }
   ],
   "source": [
    "for i in tokens:\n",
    "    tokenized = [w for w in tokens if not w in stop_words]\n",
    "    tagged = nltk.pos_tag(tokenized)\n",
    "print(tagged)"
   ]
  },
  {
   "cell_type": "code",
   "execution_count": 35,
   "id": "e933f415",
   "metadata": {},
   "outputs": [
    {
     "name": "stdout",
     "output_type": "stream",
     "text": [
      "['Data', 'science', 'interdisciplinary', 'academic', 'field', 'uses', 'statistics', ',', 'scientific', 'computing', ',', 'scientific', 'methods', ',', 'processes', ',', 'algorithms', 'systems', 'extract', 'extrapolate', 'knowledge', 'insights', 'noisy', ',', 'structured', ',', 'unstructured', 'data', '.', 'Data', 'science', 'also', 'integrates', 'domain', 'knowledge', 'underlying', 'application', 'domain', '(', 'e.g.', ',', 'natural', 'sciences', ',', 'information', 'technology', ',', 'medicine', ')', '.', 'Data', 'science', 'multifaceted', 'described', 'science', ',', 'research', 'paradigm', ',', 'research', 'method', ',', 'discipline', ',', 'workflow', ',', 'profession', '.']\n"
     ]
    }
   ],
   "source": [
    "text_after_stopwords_removal = []\n",
    "for w in tokens:\n",
    "    if w not in stop_words:\n",
    "        text_after_stopwords_removal.append(w)\n",
    "print(text_after_stopwords_removal)"
   ]
  },
  {
   "cell_type": "code",
   "execution_count": null,
   "id": "3dd1fefa",
   "metadata": {},
   "outputs": [],
   "source": []
  }
 ],
 "metadata": {
  "kernelspec": {
   "display_name": "Python 3 (ipykernel)",
   "language": "python",
   "name": "python3"
  },
  "language_info": {
   "codemirror_mode": {
    "name": "ipython",
    "version": 3
   },
   "file_extension": ".py",
   "mimetype": "text/x-python",
   "name": "python",
   "nbconvert_exporter": "python",
   "pygments_lexer": "ipython3",
   "version": "3.8.10"
  }
 },
 "nbformat": 4,
 "nbformat_minor": 5
}
