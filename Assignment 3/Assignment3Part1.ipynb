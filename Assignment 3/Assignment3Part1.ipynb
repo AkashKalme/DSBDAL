{
 "cells": [
  {
   "cell_type": "code",
   "execution_count": 1,
   "id": "cbcccea9",
   "metadata": {},
   "outputs": [],
   "source": [
    "import pandas as pd\n",
    "import numpy as np"
   ]
  },
  {
   "cell_type": "code",
   "execution_count": 2,
   "id": "2c73589b",
   "metadata": {},
   "outputs": [],
   "source": [
    "file = pd.read_csv('/home/TE/Documents/31141/Assignment 3/income.csv')"
   ]
  },
  {
   "cell_type": "code",
   "execution_count": 3,
   "id": "0cedad73",
   "metadata": {},
   "outputs": [],
   "source": [
    "df = pd.DataFrame(file)"
   ]
  },
  {
   "cell_type": "code",
   "execution_count": 4,
   "id": "19c59886",
   "metadata": {},
   "outputs": [
    {
     "data": {
      "text/plain": [
       "(1999, 5)"
      ]
     },
     "execution_count": 4,
     "metadata": {},
     "output_type": "execute_result"
    }
   ],
   "source": [
    "df.shape"
   ]
  },
  {
   "cell_type": "code",
   "execution_count": 5,
   "id": "6496ca68",
   "metadata": {},
   "outputs": [
    {
     "data": {
      "text/plain": [
       "9995"
      ]
     },
     "execution_count": 5,
     "metadata": {},
     "output_type": "execute_result"
    }
   ],
   "source": [
    "df.size"
   ]
  },
  {
   "cell_type": "code",
   "execution_count": 6,
   "id": "fba6e0a6",
   "metadata": {},
   "outputs": [
    {
     "data": {
      "text/plain": [
       "<bound method DataFrame.info of       Age  Gender  Education Number  Workclass  Income\n",
       "0      25    Male                 7    Private  480332\n",
       "1      38    Male                 9    Private  198235\n",
       "2      28    Male                12  Local-gov   82785\n",
       "3      44    Male                10    Private  107589\n",
       "4      18  Female                10    Unknown  189322\n",
       "...   ...     ...               ...        ...     ...\n",
       "1994   44  Female                13    Private  270685\n",
       "1995   35    Male                13    Private  186547\n",
       "1996   27    Male                 9    Private  454429\n",
       "1997   36    Male                13  Local-gov   95040\n",
       "1998   42    Male                10  State-gov   71942\n",
       "\n",
       "[1999 rows x 5 columns]>"
      ]
     },
     "execution_count": 6,
     "metadata": {},
     "output_type": "execute_result"
    }
   ],
   "source": [
    "df.info"
   ]
  },
  {
   "cell_type": "code",
   "execution_count": 7,
   "id": "e78414e1",
   "metadata": {},
   "outputs": [
    {
     "data": {
      "text/html": [
       "<div>\n",
       "<style scoped>\n",
       "    .dataframe tbody tr th:only-of-type {\n",
       "        vertical-align: middle;\n",
       "    }\n",
       "\n",
       "    .dataframe tbody tr th {\n",
       "        vertical-align: top;\n",
       "    }\n",
       "\n",
       "    .dataframe thead th {\n",
       "        text-align: right;\n",
       "    }\n",
       "</style>\n",
       "<table border=\"1\" class=\"dataframe\">\n",
       "  <thead>\n",
       "    <tr style=\"text-align: right;\">\n",
       "      <th></th>\n",
       "      <th>Age</th>\n",
       "      <th>Education Number</th>\n",
       "      <th>Income</th>\n",
       "    </tr>\n",
       "  </thead>\n",
       "  <tbody>\n",
       "    <tr>\n",
       "      <th>count</th>\n",
       "      <td>1999.000000</td>\n",
       "      <td>1999.000000</td>\n",
       "      <td>1.999000e+03</td>\n",
       "    </tr>\n",
       "    <tr>\n",
       "      <th>mean</th>\n",
       "      <td>38.566283</td>\n",
       "      <td>10.033517</td>\n",
       "      <td>2.070535e+05</td>\n",
       "    </tr>\n",
       "    <tr>\n",
       "      <th>std</th>\n",
       "      <td>13.698691</td>\n",
       "      <td>2.671425</td>\n",
       "      <td>3.258124e+05</td>\n",
       "    </tr>\n",
       "    <tr>\n",
       "      <th>min</th>\n",
       "      <td>17.000000</td>\n",
       "      <td>1.000000</td>\n",
       "      <td>1.469100e+04</td>\n",
       "    </tr>\n",
       "    <tr>\n",
       "      <th>25%</th>\n",
       "      <td>27.000000</td>\n",
       "      <td>9.000000</td>\n",
       "      <td>9.745200e+04</td>\n",
       "    </tr>\n",
       "    <tr>\n",
       "      <th>50%</th>\n",
       "      <td>37.000000</td>\n",
       "      <td>10.000000</td>\n",
       "      <td>1.403120e+05</td>\n",
       "    </tr>\n",
       "    <tr>\n",
       "      <th>75%</th>\n",
       "      <td>48.000000</td>\n",
       "      <td>13.000000</td>\n",
       "      <td>2.188615e+05</td>\n",
       "    </tr>\n",
       "    <tr>\n",
       "      <th>max</th>\n",
       "      <td>90.000000</td>\n",
       "      <td>16.000000</td>\n",
       "      <td>1.163936e+07</td>\n",
       "    </tr>\n",
       "  </tbody>\n",
       "</table>\n",
       "</div>"
      ],
      "text/plain": [
       "               Age  Education Number        Income\n",
       "count  1999.000000       1999.000000  1.999000e+03\n",
       "mean     38.566283         10.033517  2.070535e+05\n",
       "std      13.698691          2.671425  3.258124e+05\n",
       "min      17.000000          1.000000  1.469100e+04\n",
       "25%      27.000000          9.000000  9.745200e+04\n",
       "50%      37.000000         10.000000  1.403120e+05\n",
       "75%      48.000000         13.000000  2.188615e+05\n",
       "max      90.000000         16.000000  1.163936e+07"
      ]
     },
     "execution_count": 7,
     "metadata": {},
     "output_type": "execute_result"
    }
   ],
   "source": [
    "df.describe()"
   ]
  },
  {
   "cell_type": "code",
   "execution_count": 8,
   "id": "16a87e85",
   "metadata": {},
   "outputs": [
    {
     "name": "stdout",
     "output_type": "stream",
     "text": [
      "Mean Income:  207053.54827413708\n"
     ]
    }
   ],
   "source": [
    "mean = df['Income'].mean()\n",
    "print(\"Mean Income: \", mean)"
   ]
  },
  {
   "cell_type": "code",
   "execution_count": 9,
   "id": "df07ee05",
   "metadata": {},
   "outputs": [
    {
     "name": "stdout",
     "output_type": "stream",
     "text": [
      "Median Income:  140312.0\n"
     ]
    }
   ],
   "source": [
    "median = df['Income'].median()\n",
    "print(\"Median Income: \", median)"
   ]
  },
  {
   "cell_type": "code",
   "execution_count": 10,
   "id": "dd6645e4",
   "metadata": {},
   "outputs": [
    {
     "name": "stdout",
     "output_type": "stream",
     "text": [
      "Mode Income:  0      47686\n",
      "1      69835\n",
      "2      71260\n",
      "3      72120\n",
      "4      82639\n",
      "5      91722\n",
      "6      96612\n",
      "7     111495\n",
      "8     111570\n",
      "9     113852\n",
      "10    116360\n",
      "11    120090\n",
      "12    141277\n",
      "13    143785\n",
      "14    166080\n",
      "Name: Income, dtype: int64\n"
     ]
    }
   ],
   "source": [
    "mode = df['Income'].mode()\n",
    "print(\"Mode Income: \", mode)"
   ]
  },
  {
   "cell_type": "code",
   "execution_count": 11,
   "id": "ec3ac970",
   "metadata": {},
   "outputs": [
    {
     "name": "stdout",
     "output_type": "stream",
     "text": [
      "Minimum Income:  14691\n"
     ]
    }
   ],
   "source": [
    "minimum = df['Income'].min()\n",
    "print(\"Minimum Income: \", minimum)"
   ]
  },
  {
   "cell_type": "code",
   "execution_count": 12,
   "id": "af36c41d",
   "metadata": {},
   "outputs": [
    {
     "name": "stdout",
     "output_type": "stream",
     "text": [
      "Maximum Income:  11639365\n"
     ]
    }
   ],
   "source": [
    "maximum = df['Income'].max()\n",
    "print(\"Maximum Income: \", maximum)"
   ]
  },
  {
   "cell_type": "code",
   "execution_count": 13,
   "id": "09e6da11",
   "metadata": {},
   "outputs": [
    {
     "name": "stdout",
     "output_type": "stream",
     "text": [
      "Mean by Education Level: Education Number\n",
      "1     188628.666667\n",
      "2     263830.400000\n",
      "3     176817.280000\n",
      "4     183855.355556\n",
      "5     305868.515152\n",
      "6     179390.090909\n",
      "7     189406.441860\n",
      "8     238758.187500\n",
      "9     225586.230769\n",
      "10    205112.707483\n",
      "11    214950.644737\n",
      "12    209369.357143\n",
      "13    195278.107558\n",
      "14    176751.135135\n",
      "15    139989.800000\n",
      "16    176696.760000\n",
      "Name: Income, dtype: float64\n"
     ]
    }
   ],
   "source": [
    "mean_by_education = df.groupby('Education Number')['Income'].mean()\n",
    "print(\"Mean by Education Level:\", mean_by_education)"
   ]
  },
  {
   "cell_type": "code",
   "execution_count": 14,
   "id": "2b7bfb67",
   "metadata": {},
   "outputs": [
    {
     "name": "stdout",
     "output_type": "stream",
     "text": [
      "Education Number\n",
      "1     116219\n",
      "2      46188\n",
      "3      46709\n",
      "4      40649\n",
      "5      31345\n",
      "6      30294\n",
      "7      34935\n",
      "8      39732\n",
      "9      20688\n",
      "10     23253\n",
      "11     28275\n",
      "12     25481\n",
      "13     23973\n",
      "14     14691\n",
      "15     41138\n",
      "16     30292\n",
      "Name: Income, dtype: int64 Education Number\n",
      "1       296776\n",
      "2       660738\n",
      "3       820441\n",
      "4      1107119\n",
      "5      1935306\n",
      "6      1114504\n",
      "7      1796730\n",
      "8       700542\n",
      "9     11639365\n",
      "10     1724760\n",
      "11     1046834\n",
      "12     1728465\n",
      "13     1606308\n",
      "14      808197\n",
      "15      447170\n",
      "16      741308\n",
      "Name: Income, dtype: int64\n"
     ]
    }
   ],
   "source": [
    "min_by_education = df.groupby('Education Number')['Income'].min()\n",
    "max_by_education = df.groupby('Education Number')['Income'].max()\n",
    "print(min_by_education, max_by_education)"
   ]
  },
  {
   "cell_type": "code",
   "execution_count": null,
   "id": "79857055",
   "metadata": {},
   "outputs": [],
   "source": []
  }
 ],
 "metadata": {
  "kernelspec": {
   "display_name": "Python 3 (ipykernel)",
   "language": "python",
   "name": "python3"
  },
  "language_info": {
   "codemirror_mode": {
    "name": "ipython",
    "version": 3
   },
   "file_extension": ".py",
   "mimetype": "text/x-python",
   "name": "python",
   "nbconvert_exporter": "python",
   "pygments_lexer": "ipython3",
   "version": "3.8.10"
  }
 },
 "nbformat": 4,
 "nbformat_minor": 5
}
